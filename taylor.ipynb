{
 "cells": [
  {
   "cell_type": "code",
   "execution_count": 1,
   "metadata": {},
   "outputs": [
    {
     "data": {
      "text/latex": [
       "$\\displaystyle \\left[\\begin{matrix}T_{} & T_{t} & T_{tt} & T_{ttt} & T_{t^{4}} & T_{t^{5}} & T_{t^{6}}\\\\T_{x} & T_{xt} & T_{xtt} & T_{xttt} & T_{xt^{4}} & T_{xt^{5}} & T_{xt^{6}}\\\\T_{xx} & T_{xxt} & T_{xxtt} & T_{xxttt} & T_{xxt^{4}} & T_{xxt^{5}} & T_{xxt^{6}}\\\\T_{xxx} & T_{xxxt} & T_{xxxtt} & T_{xxxttt} & T_{xxxt^{4}} & T_{xxxt^{5}} & T_{xxxt^{6}}\\\\T_{x^{4}} & T_{x^{4}t} & T_{x^{4}tt} & T_{x^{4}ttt} & T_{x^{4}t^{4}} & T_{x^{4}t^{5}} & T_{x^{4}t^{6}}\\\\T_{x^{5}} & T_{x^{5}t} & T_{x^{5}tt} & T_{x^{5}ttt} & T_{x^{5}t^{4}} & T_{x^{5}t^{5}} & T_{x^{5}t^{6}}\\\\T_{x^{6}} & T_{x^{6}t} & T_{x^{6}tt} & T_{x^{6}ttt} & T_{x^{6}t^{4}} & T_{x^{6}t^{5}} & T_{x^{6}t^{6}}\\end{matrix}\\right]$"
      ],
      "text/plain": [
       "⎡   T_{}        T_{t}        T_{tt}        T_{ttt}        T_{t__{4}}        T_\n",
       "⎢                                                                             \n",
       "⎢  T_{x}       T_{xt}       T_{xtt}       T_{xttt}       T_{xt__{4}}       T_{\n",
       "⎢                                                                             \n",
       "⎢  T_{xx}      T_{xxt}      T_{xxtt}      T_{xxttt}      T_{xxt__{4}}      T_{\n",
       "⎢                                                                             \n",
       "⎢ T_{xxx}     T_{xxxt}     T_{xxxtt}     T_{xxxttt}     T_{xxxt__{4}}     T_{x\n",
       "⎢                                                                             \n",
       "⎢T_{x__{4}}  T_{x__{4}t}  T_{x__{4}tt}  T_{x__{4}ttt}  T_{x__{4}t__{4}}  T_{x_\n",
       "⎢                                                                             \n",
       "⎢T_{x__{5}}  T_{x__{5}t}  T_{x__{5}tt}  T_{x__{5}ttt}  T_{x__{5}t__{4}}  T_{x_\n",
       "⎢                                                                             \n",
       "⎣T_{x__{6}}  T_{x__{6}t}  T_{x__{6}tt}  T_{x__{6}ttt}  T_{x__{6}t__{4}}  T_{x_\n",
       "\n",
       "{t__{5}}        T_{t__{6}}   ⎤\n",
       "                             ⎥\n",
       "xt__{5}}       T_{xt__{6}}   ⎥\n",
       "                             ⎥\n",
       "xxt__{5}}      T_{xxt__{6}}  ⎥\n",
       "                             ⎥\n",
       "xxt__{5}}     T_{xxxt__{6}}  ⎥\n",
       "                             ⎥\n",
       "_{4}t__{5}}  T_{x__{4}t__{6}}⎥\n",
       "                             ⎥\n",
       "_{5}t__{5}}  T_{x__{5}t__{6}}⎥\n",
       "                             ⎥\n",
       "_{6}t__{5}}  T_{x__{6}t__{6}}⎦"
      ]
     },
     "execution_count": 1,
     "metadata": {},
     "output_type": "execute_result"
    }
   ],
   "source": [
    "from sympy import init_printing, Symbol, Matrix\n",
    "\n",
    "\n",
    "init_printing()\n",
    "n = 7\n",
    "m = []\n",
    "for i in range(n):\n",
    "    row = []\n",
    "    for j in range(n):\n",
    "        if i < 4:\n",
    "            x_script = i*'x'\n",
    "        else:\n",
    "            x_script = 'x^{{{:}}}'.format(i)\n",
    "        if j < 4:\n",
    "            t_script = j*'t'\n",
    "        else:\n",
    "            t_script = 't^{{{:}}}'.format(j)\n",
    "        row.append(Symbol('T_{{{:}{:}}}'.format(x_script, t_script)))\n",
    "    m.append(row)\n",
    "dT = Matrix(m)\n",
    "\n",
    "dT"
   ]
  },
  {
   "cell_type": "code",
   "execution_count": 2,
   "metadata": {},
   "outputs": [
    {
     "data": {
      "text/latex": [
       "$\\displaystyle T_{} + T_{x} \\Delta x + \\frac{T_{xx} \\Delta x^{2}}{2} + \\frac{T_{xxx} \\Delta x^{3}}{6} + \\frac{T_{x^{4}} \\Delta x^{4}}{24} + O\\left(\\Delta x^{5}\\right)$"
      ],
      "text/plain": [
       "                                       2                   3                  \n",
       "                        T_{xx}⋅\\Delta x    T_{xxx}⋅\\Delta x    T_{x__{4}}⋅\\Del\n",
       "T_{} + T_{x}⋅\\Delta x + ──────────────── + ───────────────── + ───────────────\n",
       "                               2                   6                    24    \n",
       "\n",
       "    4               \n",
       "ta x     ⎛        5⎞\n",
       "───── + O⎝\\Delta x ⎠\n",
       "                    "
      ]
     },
     "execution_count": 2,
     "metadata": {},
     "output_type": "execute_result"
    }
   ],
   "source": [
    "from sympy import Add, factorial, Order\n",
    "\n",
    "dx = Symbol('\\Delta x')\n",
    "dt = Symbol('\\Delta t')\n",
    "\n",
    "def P(dx, dt, dT, n):\n",
    "    series_terms = []\n",
    "    for i in range(0, n+1):\n",
    "        for j in range(0, i + 1):\n",
    "            series_terms.append((1/(factorial(i - j)*factorial(j))) * (dx)**(i-j) * (dt)**j * dT[i - j, j])\n",
    "    series_terms.extend([Order(dx**(n + 1)), Order(dt**(n + 1))])\n",
    "    return Add(*series_terms)\n",
    "\n",
    "P(dx, 0, dT, 4)"
   ]
  },
  {
   "cell_type": "code",
   "execution_count": 3,
   "metadata": {},
   "outputs": [
    {
     "data": {
      "text/latex": [
       "$\\displaystyle T_{} + 2 T_{x} \\Delta x + 2 T_{xx} \\Delta x^{2} + \\frac{4 T_{xxx} \\Delta x^{3}}{3} + \\frac{2 T_{x^{4}} \\Delta x^{4}}{3} + O\\left(\\Delta x^{5}\\right)$"
      ],
      "text/plain": [
       "                                                                 3            \n",
       "                                           2   4⋅T_{xxx}⋅\\Delta x    2⋅T_{x__{\n",
       "T_{} + 2⋅T_{x}⋅\\Delta x + 2⋅T_{xx}⋅\\Delta x  + ─────────────────── + ─────────\n",
       "                                                        3                     \n",
       "\n",
       "            4               \n",
       "4}}⋅\\Delta x     ⎛        5⎞\n",
       "───────────── + O⎝\\Delta x ⎠\n",
       " 3                          "
      ]
     },
     "execution_count": 3,
     "metadata": {},
     "output_type": "execute_result"
    }
   ],
   "source": [
    "P(2*dx, 0, dT, 4)"
   ]
  },
  {
   "cell_type": "code",
   "execution_count": 4,
   "metadata": {},
   "outputs": [
    {
     "data": {
      "text/latex": [
       "$\\displaystyle T_{} + T_{t} \\Delta t + \\frac{T_{tt} \\Delta t^{2}}{2} + \\frac{T_{ttt} \\Delta t^{3}}{6} + \\frac{T_{t^{4}} \\Delta t^{4}}{24} + O\\left(\\Delta t^{5}\\right)$"
      ],
      "text/plain": [
       "                                       2                   3                  \n",
       "                        T_{tt}⋅\\Delta t    T_{ttt}⋅\\Delta t    T_{t__{4}}⋅\\Del\n",
       "T_{} + T_{t}⋅\\Delta t + ──────────────── + ───────────────── + ───────────────\n",
       "                               2                   6                    24    \n",
       "\n",
       "    4               \n",
       "ta t     ⎛        5⎞\n",
       "───── + O⎝\\Delta t ⎠\n",
       "                    "
      ]
     },
     "execution_count": 4,
     "metadata": {},
     "output_type": "execute_result"
    }
   ],
   "source": [
    "P(0, dt,  dT, 4)"
   ]
  },
  {
   "cell_type": "code",
   "execution_count": 5,
   "metadata": {},
   "outputs": [
    {
     "data": {
      "text/latex": [
       "$\\displaystyle T_{} + T_{x} \\Delta x + \\frac{T_{xx} \\Delta x^{2}}{2} + T_{xt} \\Delta t \\Delta x + T_{t} \\Delta t + \\frac{T_{tt} \\Delta t^{2}}{2} + O\\left(\\Delta x^{3}\\right) + O\\left(\\Delta t^{3}\\right)$"
      ],
      "text/plain": [
       "                                       2                                      \n",
       "                        T_{xx}⋅\\Delta x                                       \n",
       "T_{} + T_{x}⋅\\Delta x + ──────────────── + T_{xt}⋅\\Delta t⋅\\Delta x + T_{t}⋅\\D\n",
       "                               2                                              \n",
       "\n",
       "                        2                              \n",
       "         T_{tt}⋅\\Delta t     ⎛        3⎞    ⎛        3⎞\n",
       "elta t + ──────────────── + O⎝\\Delta x ⎠ + O⎝\\Delta t ⎠\n",
       "                2                                      "
      ]
     },
     "execution_count": 5,
     "metadata": {},
     "output_type": "execute_result"
    }
   ],
   "source": [
    "P(dx, dt, dT, 2)"
   ]
  },
  {
   "cell_type": "code",
   "execution_count": 6,
   "metadata": {},
   "outputs": [
    {
     "data": {
      "text/latex": [
       "$\\displaystyle T_{} + T_{x} \\Delta x + \\frac{T_{xx} \\Delta x^{2}}{2} + \\frac{T_{xxx} \\Delta x^{3}}{6} + \\frac{T_{xxt} \\Delta t \\Delta x^{2}}{2} + T_{xt} \\Delta t \\Delta x + \\frac{T_{xtt} \\Delta t^{2} \\Delta x}{2} + T_{t} \\Delta t + \\frac{T_{tt} \\Delta t^{2}}{2} + \\frac{T_{ttt} \\Delta t^{3}}{6} + O\\left(\\Delta x^{4}\\right) + O\\left(\\Delta t^{4}\\right)$"
      ],
      "text/plain": [
       "                                       2                   3                  \n",
       "                        T_{xx}⋅\\Delta x    T_{xxx}⋅\\Delta x    T_{xxt}⋅\\Delta \n",
       "T_{} + T_{x}⋅\\Delta x + ──────────────── + ───────────────── + ───────────────\n",
       "                               2                   6                       2  \n",
       "\n",
       "          2                                              2                    \n",
       "t⋅\\Delta x                               T_{xtt}⋅\\Delta t ⋅\\Delta x           \n",
       "─────────── + T_{xt}⋅\\Delta t⋅\\Delta x + ────────────────────────── + T_{t}⋅\\D\n",
       "                                                     2                        \n",
       "\n",
       "                        2                   3                              \n",
       "         T_{tt}⋅\\Delta t    T_{ttt}⋅\\Delta t     ⎛        4⎞    ⎛        4⎞\n",
       "elta t + ──────────────── + ───────────────── + O⎝\\Delta x ⎠ + O⎝\\Delta t ⎠\n",
       "                2                   6                                      "
      ]
     },
     "execution_count": 6,
     "metadata": {},
     "output_type": "execute_result"
    }
   ],
   "source": [
    "P(dx, dt, dT, 3)"
   ]
  }
 ],
 "metadata": {
  "interpreter": {
   "hash": "a199bcbba3e821b8d5891eb4b89745fcafee7d77a7e399c5b6adbcca28439009"
  },
  "kernelspec": {
   "display_name": "Python 3.9.13 ('env': venv)",
   "language": "python",
   "name": "python3"
  },
  "language_info": {
   "codemirror_mode": {
    "name": "ipython",
    "version": 3
   },
   "file_extension": ".py",
   "mimetype": "text/x-python",
   "name": "python",
   "nbconvert_exporter": "python",
   "pygments_lexer": "ipython3",
   "version": "3.9.13"
  },
  "orig_nbformat": 4
 },
 "nbformat": 4,
 "nbformat_minor": 2
}
