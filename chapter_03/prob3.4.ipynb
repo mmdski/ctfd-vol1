{
 "cells": [
  {
   "cell_type": "code",
   "execution_count": 1,
   "metadata": {},
   "outputs": [],
   "source": [
    "from IPython.core.display import Markdown\n",
    "from IPython.display import display\n",
    "\n",
    "from sympy import symbols, expand, factorial, init_printing, Symbol\n",
    "\n",
    "\n",
    "init_printing()\n",
    "x, x0 = symbols('x, x_0')\n",
    "dx = Symbol('\\Delta x')\n",
    "Deltax = [0.1, 0.05, 0.025, 0.0125]\n",
    "yj, yjp1, yjp2, yjm1, yjm2 = symbols('y_{j}, y_{j+1}, y_{j+2}, y_{j-1}, y_{j-2}')\n",
    "n = 6\n",
    "y_prime = symbols(' '.join(['y^{{{:}}}'.format(i*\"\\prime\") for i in range(n)]))\n",
    "def P(x, x0, c, n):\n",
    "    return sum( ((1/factorial(i)) * (x - x0)**i*c[i] for i in range(n)))"
   ]
  },
  {
   "cell_type": "code",
   "execution_count": 2,
   "metadata": {},
   "outputs": [
    {
     "data": {
      "text/latex": [
       "$\\displaystyle \\sin{\\left(\\frac{\\pi x}{2} \\right)}$"
      ],
      "text/plain": [
       "   ⎛π⋅x⎞\n",
       "sin⎜───⎟\n",
       "   ⎝ 2 ⎠"
      ]
     },
     "execution_count": 2,
     "metadata": {},
     "output_type": "execute_result"
    }
   ],
   "source": [
    "from sympy import sin, pi\n",
    "\n",
    "\n",
    "y = sin(pi/2*x)\n",
    "y"
   ]
  },
  {
   "cell_type": "code",
   "execution_count": 3,
   "metadata": {},
   "outputs": [
    {
     "data": {
      "text/latex": [
       "$\\displaystyle \\frac{\\pi \\cos{\\left(\\frac{\\pi x}{2} \\right)}}{2}$"
      ],
      "text/plain": [
       "     ⎛π⋅x⎞\n",
       "π⋅cos⎜───⎟\n",
       "     ⎝ 2 ⎠\n",
       "──────────\n",
       "    2     "
      ]
     },
     "execution_count": 3,
     "metadata": {},
     "output_type": "execute_result"
    }
   ],
   "source": [
    "y_diff1 = y.diff(x)\n",
    "y_diff1"
   ]
  },
  {
   "cell_type": "code",
   "execution_count": 4,
   "metadata": {},
   "outputs": [
    {
     "data": {
      "text/latex": [
       "$\\displaystyle 1.11072073453959$"
      ],
      "text/plain": [
       "1.11072073453959"
      ]
     },
     "execution_count": 4,
     "metadata": {},
     "output_type": "execute_result"
    }
   ],
   "source": [
    "y_diff1.subs(x, 0.5).evalf()"
   ]
  },
  {
   "cell_type": "markdown",
   "metadata": {},
   "source": [
    "## 3.3 (a)"
   ]
  },
  {
   "cell_type": "code",
   "execution_count": 5,
   "metadata": {},
   "outputs": [
    {
     "data": {
      "text/latex": [
       "$\\displaystyle \\frac{y_{j+1} - y_{j-1}}{2 \\Delta x}$"
      ],
      "text/plain": [
       "y_{j+1} - y_{j-1}\n",
       "─────────────────\n",
       "    2⋅\\Delta x   "
      ]
     },
     "execution_count": 5,
     "metadata": {},
     "output_type": "execute_result"
    }
   ],
   "source": [
    "eqn_a = (yjp1 - yjm1)/(2*dx)\n",
    "eqn_a"
   ]
  },
  {
   "cell_type": "code",
   "execution_count": 6,
   "metadata": {},
   "outputs": [
    {
     "data": {
      "text/latex": [
       "$\\displaystyle \\frac{\\Delta x^{2} y^{\\prime\\prime\\prime}}{6} + y^{\\prime}$"
      ],
      "text/plain": [
       "        2                                      \n",
       "\\Delta x ⋅y__{\\prime\\prime\\prime}              \n",
       "───────────────────────────────── + y__{\\prime}\n",
       "                6                              "
      ]
     },
     "execution_count": 6,
     "metadata": {},
     "output_type": "execute_result"
    }
   ],
   "source": [
    "n_a_terms = 4\n",
    "eqn_a_series = expand(eqn_a.subs([(yjp1, P(x0 + dx, x0, y_prime, n_a_terms)), (yjm1, P(x0 - dx, x0, y_prime, n_a_terms))]))\n",
    "eqn_a_series"
   ]
  },
  {
   "cell_type": "code",
   "execution_count": 7,
   "metadata": {},
   "outputs": [
    {
     "data": {
      "text/latex": [
       "$\\displaystyle \\frac{\\Delta x^{2} y^{\\prime\\prime\\prime}}{6}$"
      ],
      "text/plain": [
       "        2                        \n",
       "\\Delta x ⋅y__{\\prime\\prime\\prime}\n",
       "─────────────────────────────────\n",
       "                6                "
      ]
     },
     "execution_count": 7,
     "metadata": {},
     "output_type": "execute_result"
    }
   ],
   "source": [
    "eqn_a_leading_err = expand(eqn_a_series - y_prime[1])\n",
    "eqn_a_leading_err"
   ]
  },
  {
   "cell_type": "code",
   "execution_count": 8,
   "metadata": {},
   "outputs": [
    {
     "data": {
      "text/latex": [
       "$\\displaystyle - \\frac{\\pi^{3} \\Delta x^{2} \\cos{\\left(\\frac{\\pi x_{0}}{2} \\right)}}{48}$"
      ],
      "text/plain": [
       "  3         2    ⎛π⋅x₀⎞ \n",
       "-π ⋅\\Delta x ⋅cos⎜────⎟ \n",
       "                 ⎝ 2  ⎠ \n",
       "────────────────────────\n",
       "           48           "
      ]
     },
     "execution_count": 8,
     "metadata": {},
     "output_type": "execute_result"
    }
   ],
   "source": [
    "eqn_a_lead_err_sub = eqn_a_leading_err.subs(y_prime[3], y.diff(x, x, x)).subs(x, x0)\n",
    "eqn_a_lead_err_sub"
   ]
  },
  {
   "cell_type": "code",
   "execution_count": 9,
   "metadata": {},
   "outputs": [
    {
     "data": {
      "text/latex": [
       "$\\displaystyle \\frac{- \\sin{\\left(\\pi \\left(- \\frac{\\Delta x}{2} + \\frac{x_{0}}{2}\\right) \\right)} + \\sin{\\left(\\pi \\left(\\frac{\\Delta x}{2} + \\frac{x_{0}}{2}\\right) \\right)}}{2 \\Delta x}$"
      ],
      "text/plain": [
       "     ⎛  ⎛  \\Delta x   x₀⎞⎞      ⎛  ⎛\\Delta x   x₀⎞⎞\n",
       "- sin⎜π⋅⎜- ──────── + ──⎟⎟ + sin⎜π⋅⎜──────── + ──⎟⎟\n",
       "     ⎝  ⎝     2       2 ⎠⎠      ⎝  ⎝   2       2 ⎠⎠\n",
       "───────────────────────────────────────────────────\n",
       "                     2⋅\\Delta x                    "
      ]
     },
     "execution_count": 9,
     "metadata": {},
     "output_type": "execute_result"
    }
   ],
   "source": [
    "eqn_a_sub = eqn_a.subs([(yjp1, y.subs(x, x0+dx)), (yjm1, y.subs(x, x0-dx))])\n",
    "eqn_a_sub"
   ]
  },
  {
   "cell_type": "code",
   "execution_count": 10,
   "metadata": {},
   "outputs": [
    {
     "data": {
      "text/latex": [
       "$\\displaystyle 1.10615871041237$"
      ],
      "text/plain": [
       "1.10615871041237"
      ]
     },
     "execution_count": 10,
     "metadata": {},
     "output_type": "execute_result"
    }
   ],
   "source": [
    "(eqn_a_sub.subs([(x0, 0.5), (dx, 0.1)])).evalf()"
   ]
  },
  {
   "cell_type": "markdown",
   "metadata": {},
   "source": [
    "### Approximation error"
   ]
  },
  {
   "cell_type": "code",
   "execution_count": 11,
   "metadata": {},
   "outputs": [
    {
     "data": {
      "text/markdown": [
       "$\\Delta x$ = 0.1000, err = -4.5620e-3, lead err term = -4.5677e-3"
      ],
      "text/plain": [
       "<IPython.core.display.Markdown object>"
      ]
     },
     "metadata": {},
     "output_type": "display_data"
    },
    {
     "data": {
      "text/markdown": [
       "$\\Delta x$ = 0.0500, err = -1.1416e-3, lead err term = -1.1419e-3"
      ],
      "text/plain": [
       "<IPython.core.display.Markdown object>"
      ]
     },
     "metadata": {},
     "output_type": "display_data"
    },
    {
     "data": {
      "text/markdown": [
       "$\\Delta x$ = 0.0250, err = -2.8546e-4, lead err term = -2.8548e-4"
      ],
      "text/plain": [
       "<IPython.core.display.Markdown object>"
      ]
     },
     "metadata": {},
     "output_type": "display_data"
    },
    {
     "data": {
      "text/markdown": [
       "$\\Delta x$ = 0.0125, err = -7.1368e-5, lead err term = -7.1370e-5"
      ],
      "text/plain": [
       "<IPython.core.display.Markdown object>"
      ]
     },
     "metadata": {},
     "output_type": "display_data"
    }
   ],
   "source": [
    "for Dx in Deltax:\n",
    "    err = (eqn_a_sub.subs([(x0, 0.5), (dx, Dx)]) - y_diff1.subs(x, 0.5)).evalf()\n",
    "    lead_err = eqn_a_lead_err_sub.subs([(x0, 0.5), (dx, Dx)]).evalf()\n",
    "    display(Markdown(\"$\" + repr(dx) + \"$ = {:5.4f}, err = {:10.4e}, lead err term = {:10.4e}\".format(Dx, err, lead_err)))"
   ]
  },
  {
   "cell_type": "markdown",
   "metadata": {},
   "source": [
    "## 3.3 (b)"
   ]
  },
  {
   "cell_type": "code",
   "execution_count": 12,
   "metadata": {},
   "outputs": [
    {
     "data": {
      "text/latex": [
       "$\\displaystyle \\frac{y_{j+1} - y_{j}}{\\Delta x}$"
      ],
      "text/plain": [
       "y_{j+1} - y_{j}\n",
       "───────────────\n",
       "    \\Delta x   "
      ]
     },
     "execution_count": 12,
     "metadata": {},
     "output_type": "execute_result"
    }
   ],
   "source": [
    "eqn_b = (yjp1 - yj)/dx\n",
    "eqn_b"
   ]
  },
  {
   "cell_type": "code",
   "execution_count": 13,
   "metadata": {},
   "outputs": [
    {
     "data": {
      "text/latex": [
       "$\\displaystyle \\frac{\\Delta x y^{\\prime\\prime}}{2} + y^{\\prime}$"
      ],
      "text/plain": [
       "\\Delta x⋅y__{\\prime\\prime}              \n",
       "────────────────────────── + y__{\\prime}\n",
       "            2                           "
      ]
     },
     "execution_count": 13,
     "metadata": {},
     "output_type": "execute_result"
    }
   ],
   "source": [
    "n_b_terms = 3\n",
    "eqn_b_series = expand(eqn_b.subs([(yjp1, P(x0 + dx, x0, y_prime, n_b_terms)), (yj, P(x0, x0, y_prime, n_b_terms))]))\n",
    "eqn_b_series"
   ]
  },
  {
   "cell_type": "code",
   "execution_count": 14,
   "metadata": {},
   "outputs": [
    {
     "data": {
      "text/latex": [
       "$\\displaystyle \\frac{\\Delta x y^{\\prime\\prime}}{2}$"
      ],
      "text/plain": [
       "\\Delta x⋅y__{\\prime\\prime}\n",
       "──────────────────────────\n",
       "            2             "
      ]
     },
     "execution_count": 14,
     "metadata": {},
     "output_type": "execute_result"
    }
   ],
   "source": [
    "eqn_b_leading_err = expand(eqn_b_series - y_prime[1])\n",
    "eqn_b_leading_err"
   ]
  },
  {
   "cell_type": "code",
   "execution_count": 15,
   "metadata": {},
   "outputs": [
    {
     "data": {
      "text/latex": [
       "$\\displaystyle - \\frac{\\pi^{2} \\Delta x \\sin{\\left(\\frac{\\pi x_{0}}{2} \\right)}}{8}$"
      ],
      "text/plain": [
       "  2             ⎛π⋅x₀⎞ \n",
       "-π ⋅\\Delta x⋅sin⎜────⎟ \n",
       "                ⎝ 2  ⎠ \n",
       "───────────────────────\n",
       "           8           "
      ]
     },
     "execution_count": 15,
     "metadata": {},
     "output_type": "execute_result"
    }
   ],
   "source": [
    "eqn_b_lead_err_sub = eqn_b_leading_err.subs(y_prime[2], y.diff(x, x)).subs(x, x0)\n",
    "eqn_b_lead_err_sub"
   ]
  },
  {
   "cell_type": "code",
   "execution_count": 16,
   "metadata": {},
   "outputs": [
    {
     "data": {
      "text/latex": [
       "$\\displaystyle \\frac{- \\sin{\\left(\\frac{\\pi x_{0}}{2} \\right)} + \\sin{\\left(\\pi \\left(\\frac{\\Delta x}{2} + \\frac{x_{0}}{2}\\right) \\right)}}{\\Delta x}$"
      ],
      "text/plain": [
       "     ⎛π⋅x₀⎞      ⎛  ⎛\\Delta x   x₀⎞⎞\n",
       "- sin⎜────⎟ + sin⎜π⋅⎜──────── + ──⎟⎟\n",
       "     ⎝ 2  ⎠      ⎝  ⎝   2       2 ⎠⎠\n",
       "────────────────────────────────────\n",
       "              \\Delta x              "
      ]
     },
     "execution_count": 16,
     "metadata": {},
     "output_type": "execute_result"
    }
   ],
   "source": [
    "eqn_b_sub = eqn_b.subs([(yjp1, y.subs(x, x0+dx)), (yj, y.subs(x, x0))])\n",
    "eqn_b_sub"
   ]
  },
  {
   "cell_type": "code",
   "execution_count": 17,
   "metadata": {},
   "outputs": [
    {
     "data": {
      "text/latex": [
       "$\\displaystyle 1.019102131884$"
      ],
      "text/plain": [
       "1.01910213188400"
      ]
     },
     "execution_count": 17,
     "metadata": {},
     "output_type": "execute_result"
    }
   ],
   "source": [
    "eqn_b_sub.subs([(x0, 0.5), (dx, 0.1)]).evalf()"
   ]
  },
  {
   "cell_type": "markdown",
   "metadata": {},
   "source": [
    "### Approximatin error"
   ]
  },
  {
   "cell_type": "code",
   "execution_count": 18,
   "metadata": {},
   "outputs": [
    {
     "data": {
      "text/markdown": [
       "$\\Delta x$ = 0.1000, err = -9.1619e-2, lead err term = -8.7236e-2"
      ],
      "text/plain": [
       "<IPython.core.display.Markdown object>"
      ]
     },
     "metadata": {},
     "output_type": "display_data"
    },
    {
     "data": {
      "text/markdown": [
       "$\\Delta x$ = 0.0500, err = -4.4737e-2, lead err term = -4.3618e-2"
      ],
      "text/plain": [
       "<IPython.core.display.Markdown object>"
      ]
     },
     "metadata": {},
     "output_type": "display_data"
    },
    {
     "data": {
      "text/markdown": [
       "$\\Delta x$ = 0.0250, err = -2.2092e-2, lead err term = -2.1809e-2"
      ],
      "text/plain": [
       "<IPython.core.display.Markdown object>"
      ]
     },
     "metadata": {},
     "output_type": "display_data"
    },
    {
     "data": {
      "text/markdown": [
       "$\\Delta x$ = 0.0125, err = -1.0975e-2, lead err term = -1.0904e-2"
      ],
      "text/plain": [
       "<IPython.core.display.Markdown object>"
      ]
     },
     "metadata": {},
     "output_type": "display_data"
    }
   ],
   "source": [
    "for Dx in Deltax:\n",
    "    err = (eqn_b_sub.subs([(x0, 0.5), (dx, Dx)]) - y_diff1.subs(x, 0.5)).evalf()\n",
    "    lead_err = eqn_b_lead_err_sub.subs([(x0, 0.5), (dx, Dx)]).evalf()\n",
    "    display(Markdown(\"$\" + repr(dx) + \"$ = {:5.4f}, err = {:10.4e}, lead err term = {:10.4e}\".format(Dx, err, lead_err)))"
   ]
  },
  {
   "cell_type": "markdown",
   "metadata": {},
   "source": [
    "## 3.3 (c)"
   ]
  },
  {
   "cell_type": "code",
   "execution_count": 19,
   "metadata": {},
   "outputs": [
    {
     "data": {
      "text/latex": [
       "$\\displaystyle \\frac{8 y_{j+1} - y_{j+2} - 8 y_{j-1} + y_{j-2}}{12 \\Delta x}$"
      ],
      "text/plain": [
       "8⋅y_{j+1} - y_{j+2} - 8⋅y_{j-1} + y_{j-2}\n",
       "─────────────────────────────────────────\n",
       "               12⋅\\Delta x               "
      ]
     },
     "execution_count": 19,
     "metadata": {},
     "output_type": "execute_result"
    }
   ],
   "source": [
    "eqn_c = (yjm2 - 8*yjm1 + 8*yjp1 - yjp2)/(12*dx)\n",
    "eqn_c"
   ]
  },
  {
   "cell_type": "code",
   "execution_count": 20,
   "metadata": {},
   "outputs": [
    {
     "data": {
      "text/latex": [
       "$\\displaystyle - \\frac{\\Delta x^{4} y^{\\prime\\prime\\prime\\prime\\prime}}{30} + y^{\\prime}$"
      ],
      "text/plain": [
       "          4                                                  \n",
       "  \\Delta x ⋅y__{\\prime\\prime\\prime\\prime\\prime}              \n",
       "- ───────────────────────────────────────────── + y__{\\prime}\n",
       "                        30                                   "
      ]
     },
     "execution_count": 20,
     "metadata": {},
     "output_type": "execute_result"
    }
   ],
   "source": [
    "n_c_terms = 6\n",
    "\n",
    "eqn_c_series = expand(eqn_c.subs([\n",
    "    (yjm2, P(x0 - 2*dx, x0, y_prime, n_c_terms)), \n",
    "    (yjm1, P(x0 - dx, x0, y_prime, n_c_terms)),\n",
    "    (yjp1, P(x0 + dx, x0, y_prime, n_c_terms)),\n",
    "    (yjp2, P(x0 + 2*dx, x0, y_prime, n_c_terms))\n",
    "    ]))\n",
    "eqn_c_series"
   ]
  },
  {
   "cell_type": "code",
   "execution_count": 21,
   "metadata": {},
   "outputs": [
    {
     "data": {
      "text/latex": [
       "$\\displaystyle - \\frac{\\Delta x^{4} y^{\\prime\\prime\\prime\\prime\\prime}}{30}$"
      ],
      "text/plain": [
       "         4                                     \n",
       "-\\Delta x ⋅y__{\\prime\\prime\\prime\\prime\\prime} \n",
       "───────────────────────────────────────────────\n",
       "                       30                      "
      ]
     },
     "execution_count": 21,
     "metadata": {},
     "output_type": "execute_result"
    }
   ],
   "source": [
    "eqn_c_leading_err = expand(eqn_c_series - y_prime[1])\n",
    "eqn_c_leading_err"
   ]
  },
  {
   "cell_type": "code",
   "execution_count": 22,
   "metadata": {},
   "outputs": [
    {
     "data": {
      "text/latex": [
       "$\\displaystyle - \\frac{\\pi^{5} \\Delta x^{4} \\cos{\\left(\\frac{\\pi x_{0}}{2} \\right)}}{960}$"
      ],
      "text/plain": [
       "  5         4    ⎛π⋅x₀⎞ \n",
       "-π ⋅\\Delta x ⋅cos⎜────⎟ \n",
       "                 ⎝ 2  ⎠ \n",
       "────────────────────────\n",
       "          960           "
      ]
     },
     "execution_count": 22,
     "metadata": {},
     "output_type": "execute_result"
    }
   ],
   "source": [
    "eqn_c_lead_err_sub = eqn_c_leading_err.subs(y_prime[5], y.diff(x, x, x, x, x)).subs(x, x0)\n",
    "eqn_c_lead_err_sub"
   ]
  },
  {
   "cell_type": "code",
   "execution_count": 23,
   "metadata": {},
   "outputs": [
    {
     "data": {
      "text/latex": [
       "$\\displaystyle \\frac{\\sin{\\left(\\pi \\left(- \\Delta x + \\frac{x_{0}}{2}\\right) \\right)} - 8 \\sin{\\left(\\pi \\left(- \\frac{\\Delta x}{2} + \\frac{x_{0}}{2}\\right) \\right)} + 8 \\sin{\\left(\\pi \\left(\\frac{\\Delta x}{2} + \\frac{x_{0}}{2}\\right) \\right)} - \\sin{\\left(\\pi \\left(\\Delta x + \\frac{x_{0}}{2}\\right) \\right)}}{12 \\Delta x}$"
      ],
      "text/plain": [
       "   ⎛  ⎛            x₀⎞⎞        ⎛  ⎛  \\Delta x   x₀⎞⎞        ⎛  ⎛\\Delta x   x₀⎞\n",
       "sin⎜π⋅⎜-\\Delta x + ──⎟⎟ - 8⋅sin⎜π⋅⎜- ──────── + ──⎟⎟ + 8⋅sin⎜π⋅⎜──────── + ──⎟\n",
       "   ⎝  ⎝            2 ⎠⎠        ⎝  ⎝     2       2 ⎠⎠        ⎝  ⎝   2       2 ⎠\n",
       "──────────────────────────────────────────────────────────────────────────────\n",
       "                                              12⋅\\Delta x                     \n",
       "\n",
       "⎞      ⎛  ⎛           x₀⎞⎞\n",
       "⎟ - sin⎜π⋅⎜\\Delta x + ──⎟⎟\n",
       "⎠      ⎝  ⎝           2 ⎠⎠\n",
       "──────────────────────────\n",
       "                          "
      ]
     },
     "execution_count": 23,
     "metadata": {},
     "output_type": "execute_result"
    }
   ],
   "source": [
    "eqn_c_sub = eqn_c.subs([\n",
    "    (yjm2, y.subs(x, x0 - 2*dx)), \n",
    "    (yjm1, y.subs(x, x0 - dx)), \n",
    "    (yjp1, y.subs(x, x0 + dx)), \n",
    "    (yjp2, y.subs(x, x0 + 2*dx))\n",
    "    ])\n",
    "eqn_c_sub"
   ]
  },
  {
   "cell_type": "code",
   "execution_count": 24,
   "metadata": {},
   "outputs": [
    {
     "data": {
      "text/latex": [
       "$\\displaystyle 1.11069826017581$"
      ],
      "text/plain": [
       "1.11069826017581"
      ]
     },
     "execution_count": 24,
     "metadata": {},
     "output_type": "execute_result"
    }
   ],
   "source": [
    "eqn_c_sub.subs([(x0, 0.5), (dx, 0.1)]).evalf()"
   ]
  },
  {
   "cell_type": "markdown",
   "metadata": {},
   "source": [
    "### Approximation error"
   ]
  },
  {
   "cell_type": "code",
   "execution_count": 25,
   "metadata": {},
   "outputs": [
    {
     "data": {
      "text/markdown": [
       "$\\Delta x$ = 0.1000, err = -2.2474e-5, lead err term = -2.2540e-5"
      ],
      "text/plain": [
       "<IPython.core.display.Markdown object>"
      ]
     },
     "metadata": {},
     "output_type": "display_data"
    },
    {
     "data": {
      "text/markdown": [
       "$\\Delta x$ = 0.0500, err = -1.4077e-6, lead err term = -1.4088e-6"
      ],
      "text/plain": [
       "<IPython.core.display.Markdown object>"
      ]
     },
     "metadata": {},
     "output_type": "display_data"
    },
    {
     "data": {
      "text/markdown": [
       "$\\Delta x$ = 0.0250, err = -8.8033e-8, lead err term = -8.8049e-8"
      ],
      "text/plain": [
       "<IPython.core.display.Markdown object>"
      ]
     },
     "metadata": {},
     "output_type": "display_data"
    },
    {
     "data": {
      "text/markdown": [
       "$\\Delta x$ = 0.0125, err = -5.5028e-9, lead err term = -5.5030e-9"
      ],
      "text/plain": [
       "<IPython.core.display.Markdown object>"
      ]
     },
     "metadata": {},
     "output_type": "display_data"
    }
   ],
   "source": [
    "for Dx in Deltax:\n",
    "    err = (eqn_c_sub.subs([(x0, 0.5), (dx, Dx)]) - y_diff1.subs(x, 0.5)).evalf()\n",
    "    lead_err = eqn_c_lead_err_sub.subs([(x0, 0.5), (dx, Dx)]).evalf()\n",
    "    display(Markdown(\"$\" + repr(dx) + \"$ = {:5.4f}, err = {:10.4e}, lead err term = {:10.4e}\".format(Dx, err, lead_err)))"
   ]
  }
 ],
 "metadata": {
  "interpreter": {
   "hash": "a199bcbba3e821b8d5891eb4b89745fcafee7d77a7e399c5b6adbcca28439009"
  },
  "kernelspec": {
   "display_name": "Python 3.9.12 ('env': venv)",
   "language": "python",
   "name": "python3"
  },
  "language_info": {
   "codemirror_mode": {
    "name": "ipython",
    "version": 3
   },
   "file_extension": ".py",
   "mimetype": "text/x-python",
   "name": "python",
   "nbconvert_exporter": "python",
   "pygments_lexer": "ipython3",
   "version": "3.9.13"
  },
  "orig_nbformat": 4
 },
 "nbformat": 4,
 "nbformat_minor": 2
}
