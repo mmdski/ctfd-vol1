{
 "cells": [
  {
   "cell_type": "code",
   "execution_count": 1,
   "metadata": {},
   "outputs": [],
   "source": [
    "from __future__ import print_function\n",
    "from sympy import symbols, factorial, init_printing, Symbol, together, Matrix\n",
    "\n",
    "init_printing()\n",
    "x0, t0 = symbols('x_0, t_0')\n",
    "\n",
    "dx = Symbol('\\Delta x')\n",
    "dt = Symbol('\\Delta t')\n",
    "alpha = Symbol('\\\\alpha')\n",
    "d = Symbol('d')\n",
    "\n",
    "Tjm1n, Tjn, Tjp1n = symbols('T_{j-1}^n, T_j^n, T_{j+1}^n')\n",
    "Tjm1nm1, Tjnm1, Tjp1nm1 = symbols('T_{j-1}^{n-1}, T_j^{n-1}, T_{j+1}^{n-1}')\n",
    "Tjnm1, Tjnp1 = symbols('T_j^{n-1}, T_j^{n+1}')\n",
    "\n",
    "n = 7\n",
    "m = []\n",
    "for i in range(n):\n",
    "    row = []\n",
    "    for j in range(n):\n",
    "        row.append(Symbol('T_{{{:}{:}}}'.format(i*'x', j*'t')))\n",
    "    m.append(row)\n",
    "dT = Matrix(m)\n",
    "\n",
    "def P(x, x0, t, t0, dT, n):\n",
    "    series_terms = []\n",
    "    for i in range(0, n):\n",
    "        for j in range(0, n):\n",
    "            series_terms.append((1/(factorial(i)*factorial(j))) * (x - x0)**i * (t - t0)**j * dT[i, j])\n",
    "    return sum(series_terms)"
   ]
  },
  {
   "cell_type": "code",
   "execution_count": 2,
   "metadata": {},
   "outputs": [
    {
     "data": {
      "text/latex": [
       "$\\displaystyle \\left[\\begin{matrix}T_{} & T_{t} & T_{tt} & T_{ttt} & T_{tttt} & T_{ttttt} & T_{tttttt}\\\\T_{x} & T_{xt} & T_{xtt} & T_{xttt} & T_{xtttt} & T_{xttttt} & T_{xtttttt}\\\\T_{xx} & T_{xxt} & T_{xxtt} & T_{xxttt} & T_{xxtttt} & T_{xxttttt} & T_{xxtttttt}\\\\T_{xxx} & T_{xxxt} & T_{xxxtt} & T_{xxxttt} & T_{xxxtttt} & T_{xxxttttt} & T_{xxxtttttt}\\\\T_{xxxx} & T_{xxxxt} & T_{xxxxtt} & T_{xxxxttt} & T_{xxxxtttt} & T_{xxxxttttt} & T_{xxxxtttttt}\\\\T_{xxxxx} & T_{xxxxxt} & T_{xxxxxtt} & T_{xxxxxttt} & T_{xxxxxtttt} & T_{xxxxxttttt} & T_{xxxxxtttttt}\\\\T_{xxxxxx} & T_{xxxxxxt} & T_{xxxxxxtt} & T_{xxxxxxttt} & T_{xxxxxxtttt} & T_{xxxxxxttttt} & T_{xxxxxxtttttt}\\end{matrix}\\right]$"
      ],
      "text/plain": [
       "⎡   T_{}        T_{t}        T_{tt}        T_{ttt}        T_{tttt}        T_{t\n",
       "⎢                                                                             \n",
       "⎢  T_{x}       T_{xt}       T_{xtt}       T_{xttt}       T_{xtttt}       T_{xt\n",
       "⎢                                                                             \n",
       "⎢  T_{xx}      T_{xxt}      T_{xxtt}      T_{xxttt}      T_{xxtttt}      T_{xx\n",
       "⎢                                                                             \n",
       "⎢ T_{xxx}     T_{xxxt}     T_{xxxtt}     T_{xxxttt}     T_{xxxtttt}     T_{xxx\n",
       "⎢                                                                             \n",
       "⎢ T_{xxxx}    T_{xxxxt}    T_{xxxxtt}    T_{xxxxttt}    T_{xxxxtttt}    T_{xxx\n",
       "⎢                                                                             \n",
       "⎢T_{xxxxx}   T_{xxxxxt}   T_{xxxxxtt}   T_{xxxxxttt}   T_{xxxxxtttt}   T_{xxxx\n",
       "⎢                                                                             \n",
       "⎣T_{xxxxxx}  T_{xxxxxxt}  T_{xxxxxxtt}  T_{xxxxxxttt}  T_{xxxxxxtttt}  T_{xxxx\n",
       "\n",
       "tttt}        T_{tttttt}   ⎤\n",
       "                          ⎥\n",
       "tttt}       T_{xtttttt}   ⎥\n",
       "                          ⎥\n",
       "ttttt}      T_{xxtttttt}  ⎥\n",
       "                          ⎥\n",
       "ttttt}     T_{xxxtttttt}  ⎥\n",
       "                          ⎥\n",
       "xttttt}    T_{xxxxtttttt} ⎥\n",
       "                          ⎥\n",
       "xttttt}   T_{xxxxxtttttt} ⎥\n",
       "                          ⎥\n",
       "xxttttt}  T_{xxxxxxtttttt}⎦"
      ]
     },
     "execution_count": 2,
     "metadata": {},
     "output_type": "execute_result"
    }
   ],
   "source": [
    "dT"
   ]
  },
  {
   "cell_type": "code",
   "execution_count": 3,
   "metadata": {},
   "outputs": [
    {
     "data": {
      "text/latex": [
       "$\\displaystyle T_{t} - T_{xx} \\alpha$"
      ],
      "text/plain": [
       "T_{t} - T_{xx}⋅\\alpha"
      ]
     },
     "execution_count": 3,
     "metadata": {},
     "output_type": "execute_result"
    }
   ],
   "source": [
    "eqn = dT[0,1] - alpha*dT[2,0]\n",
    "eqn"
   ]
  },
  {
   "cell_type": "code",
   "execution_count": 4,
   "metadata": {},
   "outputs": [
    {
     "data": {
      "text/latex": [
       "$\\displaystyle - \\alpha \\left(- \\frac{d \\left(- 2 T_j^{n-1} + T_{j+1}^{n-1} + T_{j-1}^{n-1}\\right)}{\\Delta x^{2}} + \\frac{\\left(d + 1\\right) \\left(- 2 T^{n}_{j} + T_{j+1}^n + T_{j-1}^n\\right)}{\\Delta x^{2}}\\right) + \\frac{- 2 T^{n}_{j} + 1.5 T_j^{n+1} + 0.5 T_j^{n-1}}{\\Delta t}$"
      ],
      "text/plain": [
       "         ⎛  d⋅(-2⋅T_j__{n-1} + T_{j+1}__{n-1} + T_{j-1}__{n-1})   (d + 1)⋅(-2⋅\n",
       "- \\alpha⋅⎜- ─────────────────────────────────────────────────── + ────────────\n",
       "         ⎜                               2                                    \n",
       "         ⎝                       \\Delta x                                     \n",
       "\n",
       "T_j__n + T_{j+1}__n + T_{j-1}__n)⎞   -2⋅T_j__n + 1.5⋅T_j__{n+1} + 0.5⋅T_j__{n-\n",
       "─────────────────────────────────⎟ + ─────────────────────────────────────────\n",
       "              2                  ⎟                     \\Delta t               \n",
       "      \\Delta x                   ⎠                                            \n",
       "\n",
       "1}\n",
       "──\n",
       "  \n",
       "  "
      ]
     },
     "execution_count": 4,
     "metadata": {},
     "output_type": "execute_result"
    }
   ],
   "source": [
    "fdmdt = (0.5*Tjnm1 - 2*Tjn + 1.5*Tjnp1)/dt\n",
    "fdmdx1 = ((1+d)*(Tjm1n - 2*Tjn + Tjp1n))/dx**2\n",
    "fdmdx2 = (d*(Tjm1nm1 - 2*Tjnm1 + Tjp1nm1))/dx**2\n",
    "discrete_eqn = fdmdt - alpha*(fdmdx1 - fdmdx2)\n",
    "discrete_eqn"
   ]
  },
  {
   "cell_type": "code",
   "execution_count": 5,
   "metadata": {},
   "outputs": [
    {
     "data": {
      "text/latex": [
       "$\\displaystyle T_{}$"
      ],
      "text/plain": [
       "T_{}"
      ]
     },
     "execution_count": 5,
     "metadata": {},
     "output_type": "execute_result"
    }
   ],
   "source": [
    "subs = []\n",
    "\n",
    "Tjn_series = P(x0, x0, t0, t0, dT, n)\n",
    "subs.append((Tjn, Tjn_series))\n",
    "Tjn_series"
   ]
  },
  {
   "cell_type": "code",
   "execution_count": 6,
   "metadata": {},
   "outputs": [
    {
     "data": {
      "text/latex": [
       "$\\displaystyle \\frac{T_{tttttt} \\Delta t^{6}}{720} + \\frac{T_{ttttt} \\Delta t^{5}}{120} + \\frac{T_{tttt} \\Delta t^{4}}{24} + \\frac{T_{ttt} \\Delta t^{3}}{6} + \\frac{T_{tt} \\Delta t^{2}}{2} + T_{t} \\Delta t + T_{}$"
      ],
      "text/plain": [
       "                   6                     5                    4               \n",
       "T_{tttttt}⋅\\Delta t    T_{ttttt}⋅\\Delta t    T_{tttt}⋅\\Delta t    T_{ttt}⋅\\Del\n",
       "──────────────────── + ─────────────────── + ────────────────── + ────────────\n",
       "        720                    120                   24                   6   \n",
       "\n",
       "    3                  2                        \n",
       "ta t    T_{tt}⋅\\Delta t                         \n",
       "───── + ──────────────── + T_{t}⋅\\Delta t + T_{}\n",
       "               2                                "
      ]
     },
     "execution_count": 6,
     "metadata": {},
     "output_type": "execute_result"
    }
   ],
   "source": [
    "Tjnp1_series = P(x0, x0, t0+dt, t0, dT, n)\n",
    "subs.append((Tjnp1, Tjnp1_series))\n",
    "Tjnp1_series"
   ]
  },
  {
   "cell_type": "code",
   "execution_count": 7,
   "metadata": {},
   "outputs": [
    {
     "data": {
      "text/latex": [
       "$\\displaystyle \\frac{T_{tttttt} \\Delta t^{6}}{720} - \\frac{T_{ttttt} \\Delta t^{5}}{120} + \\frac{T_{tttt} \\Delta t^{4}}{24} - \\frac{T_{ttt} \\Delta t^{3}}{6} + \\frac{T_{tt} \\Delta t^{2}}{2} - T_{t} \\Delta t + T_{}$"
      ],
      "text/plain": [
       "                   6                     5                    4               \n",
       "T_{tttttt}⋅\\Delta t    T_{ttttt}⋅\\Delta t    T_{tttt}⋅\\Delta t    T_{ttt}⋅\\Del\n",
       "──────────────────── - ─────────────────── + ────────────────── - ────────────\n",
       "        720                    120                   24                   6   \n",
       "\n",
       "    3                  2                        \n",
       "ta t    T_{tt}⋅\\Delta t                         \n",
       "───── + ──────────────── - T_{t}⋅\\Delta t + T_{}\n",
       "               2                                "
      ]
     },
     "execution_count": 7,
     "metadata": {},
     "output_type": "execute_result"
    }
   ],
   "source": [
    "Tjnm1_series = P(x0, x0, t0-dt, t0, dT, n)\n",
    "subs.append((Tjnm1, Tjnm1_series))\n",
    "Tjnm1_series"
   ]
  },
  {
   "cell_type": "code",
   "execution_count": 8,
   "metadata": {},
   "outputs": [
    {
     "data": {
      "text/latex": [
       "$\\displaystyle \\frac{T_{xxxxxx} \\Delta x^{6}}{720} - \\frac{T_{xxxxx} \\Delta x^{5}}{120} + \\frac{T_{xxxx} \\Delta x^{4}}{24} - \\frac{T_{xxx} \\Delta x^{3}}{6} + \\frac{T_{xx} \\Delta x^{2}}{2} - T_{x} \\Delta x + T_{}$"
      ],
      "text/plain": [
       "                   6                     5                    4               \n",
       "T_{xxxxxx}⋅\\Delta x    T_{xxxxx}⋅\\Delta x    T_{xxxx}⋅\\Delta x    T_{xxx}⋅\\Del\n",
       "──────────────────── - ─────────────────── + ────────────────── - ────────────\n",
       "        720                    120                   24                   6   \n",
       "\n",
       "    3                  2                        \n",
       "ta x    T_{xx}⋅\\Delta x                         \n",
       "───── + ──────────────── - T_{x}⋅\\Delta x + T_{}\n",
       "               2                                "
      ]
     },
     "execution_count": 8,
     "metadata": {},
     "output_type": "execute_result"
    }
   ],
   "source": [
    "Tjm1n_series = P(x0-dx, x0, t0, t0, dT, n)\n",
    "subs.append((Tjm1n, Tjm1n_series))\n",
    "Tjm1n_series"
   ]
  },
  {
   "cell_type": "code",
   "execution_count": 9,
   "metadata": {},
   "outputs": [
    {
     "data": {
      "text/latex": [
       "$\\displaystyle \\frac{T_{xxxxxx} \\Delta x^{6}}{720} + \\frac{T_{xxxxx} \\Delta x^{5}}{120} + \\frac{T_{xxxx} \\Delta x^{4}}{24} + \\frac{T_{xxx} \\Delta x^{3}}{6} + \\frac{T_{xx} \\Delta x^{2}}{2} + T_{x} \\Delta x + T_{}$"
      ],
      "text/plain": [
       "                   6                     5                    4               \n",
       "T_{xxxxxx}⋅\\Delta x    T_{xxxxx}⋅\\Delta x    T_{xxxx}⋅\\Delta x    T_{xxx}⋅\\Del\n",
       "──────────────────── + ─────────────────── + ────────────────── + ────────────\n",
       "        720                    120                   24                   6   \n",
       "\n",
       "    3                  2                        \n",
       "ta x    T_{xx}⋅\\Delta x                         \n",
       "───── + ──────────────── + T_{x}⋅\\Delta x + T_{}\n",
       "               2                                "
      ]
     },
     "execution_count": 9,
     "metadata": {},
     "output_type": "execute_result"
    }
   ],
   "source": [
    "Tjp1n_series = P(x0+dx, x0, t0, t0, dT, n)\n",
    "subs.append((Tjp1n, Tjp1n_series))\n",
    "Tjp1n_series"
   ]
  },
  {
   "cell_type": "code",
   "execution_count": 10,
   "metadata": {},
   "outputs": [
    {
     "data": {
      "text/latex": [
       "$\\displaystyle \\frac{T_{tt} \\Delta t^{2}}{2} - T_{t} \\Delta t - \\frac{T_{xtt} \\Delta t^{2} \\Delta x}{2} + T_{xt} \\Delta t \\Delta x + \\frac{T_{xxtt} \\Delta t^{2} \\Delta x^{2}}{4} - \\frac{T_{xxt} \\Delta t \\Delta x^{2}}{2} + \\frac{T_{xx} \\Delta x^{2}}{2} - T_{x} \\Delta x + T_{}$"
      ],
      "text/plain": [
       "               2                                    2                         \n",
       "T_{tt}⋅\\Delta t                     T_{xtt}⋅\\Delta t ⋅\\Delta x                \n",
       "──────────────── - T_{t}⋅\\Delta t - ────────────────────────── + T_{xt}⋅\\Delta\n",
       "       2                                        2                             \n",
       "\n",
       "                               2         2                            2       \n",
       "              T_{xxtt}⋅\\Delta t ⋅\\Delta x    T_{xxt}⋅\\Delta t⋅\\Delta x    T_{x\n",
       " t⋅\\Delta x + ──────────────────────────── - ────────────────────────── + ────\n",
       "                           4                             2                    \n",
       "\n",
       "           2                        \n",
       "x}⋅\\Delta x                         \n",
       "──────────── - T_{x}⋅\\Delta x + T_{}\n",
       "   2                                "
      ]
     },
     "execution_count": 10,
     "metadata": {},
     "output_type": "execute_result"
    }
   ],
   "source": [
    "Tjm1nm1_series = P(x0-dx, x0, t0-dt, t0, dT, 3)\n",
    "subs.append((Tjm1nm1, Tjm1nm1_series))\n",
    "Tjm1nm1_series"
   ]
  },
  {
   "cell_type": "code",
   "execution_count": 11,
   "metadata": {},
   "outputs": [
    {
     "data": {
      "text/latex": [
       "$\\displaystyle \\frac{T_{tt} \\Delta t^{2}}{2} - T_{t} \\Delta t + \\frac{T_{xtt} \\Delta t^{2} \\Delta x}{2} - T_{xt} \\Delta t \\Delta x + \\frac{T_{xxtt} \\Delta t^{2} \\Delta x^{2}}{4} - \\frac{T_{xxt} \\Delta t \\Delta x^{2}}{2} + \\frac{T_{xx} \\Delta x^{2}}{2} + T_{x} \\Delta x + T_{}$"
      ],
      "text/plain": [
       "               2                                    2                         \n",
       "T_{tt}⋅\\Delta t                     T_{xtt}⋅\\Delta t ⋅\\Delta x                \n",
       "──────────────── - T_{t}⋅\\Delta t + ────────────────────────── - T_{xt}⋅\\Delta\n",
       "       2                                        2                             \n",
       "\n",
       "                               2         2                            2       \n",
       "              T_{xxtt}⋅\\Delta t ⋅\\Delta x    T_{xxt}⋅\\Delta t⋅\\Delta x    T_{x\n",
       " t⋅\\Delta x + ──────────────────────────── - ────────────────────────── + ────\n",
       "                           4                             2                    \n",
       "\n",
       "           2                        \n",
       "x}⋅\\Delta x                         \n",
       "──────────── + T_{x}⋅\\Delta x + T_{}\n",
       "   2                                "
      ]
     },
     "execution_count": 11,
     "metadata": {},
     "output_type": "execute_result"
    }
   ],
   "source": [
    "Tjp1nm1_series = P(x0+dx, x0, t0-dt, t0, dT, 3)\n",
    "subs.append((Tjp1nm1, Tjp1nm1_series))\n",
    "Tjp1nm1_series"
   ]
  },
  {
   "cell_type": "code",
   "execution_count": 12,
   "metadata": {},
   "outputs": [
    {
     "data": {
      "text/latex": [
       "$\\displaystyle \\frac{T_{tttttt} \\Delta t^{6}}{720} - \\frac{T_{ttttt} \\Delta t^{5}}{120} + \\frac{T_{tttt} \\Delta t^{4}}{24} - \\frac{T_{ttt} \\Delta t^{3}}{6} + \\frac{T_{tt} \\Delta t^{2}}{2} - T_{t} \\Delta t + T_{}$"
      ],
      "text/plain": [
       "                   6                     5                    4               \n",
       "T_{tttttt}⋅\\Delta t    T_{ttttt}⋅\\Delta t    T_{tttt}⋅\\Delta t    T_{ttt}⋅\\Del\n",
       "──────────────────── - ─────────────────── + ────────────────── - ────────────\n",
       "        720                    120                   24                   6   \n",
       "\n",
       "    3                  2                        \n",
       "ta t    T_{tt}⋅\\Delta t                         \n",
       "───── + ──────────────── - T_{t}⋅\\Delta t + T_{}\n",
       "               2                                "
      ]
     },
     "execution_count": 12,
     "metadata": {},
     "output_type": "execute_result"
    }
   ],
   "source": [
    "Tjnm1_series = P(x0, x0, t0-dt, t0, dT, n)\n",
    "subs.append((Tjnm1, Tjnm1_series))\n",
    "Tjnm1_series"
   ]
  },
  {
   "cell_type": "code",
   "execution_count": 13,
   "metadata": {},
   "outputs": [
    {
     "data": {
      "text/latex": [
       "$\\displaystyle - \\frac{T_{tttttt} \\Delta t^{6} \\alpha d}{360 \\Delta x^{2}} + 0.00277777777777778 T_{tttttt} \\Delta t^{5} + \\frac{T_{ttttt} \\Delta t^{5} \\alpha d}{60 \\Delta x^{2}} + 0.00833333333333333 T_{ttttt} \\Delta t^{4} - \\frac{T_{tttt} \\Delta t^{4} \\alpha d}{12 \\Delta x^{2}} + 0.0833333333333333 T_{tttt} \\Delta t^{3} + \\frac{T_{ttt} \\Delta t^{3} \\alpha d}{3 \\Delta x^{2}} + 0.166666666666667 T_{ttt} \\Delta t^{2} + 1.0 T_{tt} \\Delta t + 1.0 T_{t} + \\frac{T_{xxtt} \\Delta t^{2} \\alpha d}{2} - T_{xxt} \\Delta t \\alpha d - \\frac{T_{xxxxxx} \\Delta x^{4} \\alpha d}{360} - \\frac{T_{xxxxxx} \\Delta x^{4} \\alpha}{360} - \\frac{T_{xxxx} \\Delta x^{2} \\alpha d}{12} - \\frac{T_{xxxx} \\Delta x^{2} \\alpha}{12} - T_{xx} \\alpha$"
      ],
      "text/plain": [
       "                     6                                                        \n",
       "  T_{tttttt}⋅\\Delta t ⋅\\alpha⋅d                                          5   T\n",
       "- ───────────────────────────── + 0.00277777777777778⋅T_{tttttt}⋅\\Delta t  + ─\n",
       "                      2                                                       \n",
       "          360⋅\\Delta x                                                        \n",
       "\n",
       "                 5                                                            \n",
       "_{ttttt}⋅\\Delta t ⋅\\alpha⋅d                                         4   T_{ttt\n",
       "─────────────────────────── + 0.00833333333333333⋅T_{ttttt}⋅\\Delta t  - ──────\n",
       "                  2                                                           \n",
       "       60⋅\\Delta x                                                            \n",
       "\n",
       "           4                                                                  \n",
       "t}⋅\\Delta t ⋅\\alpha⋅d                                       3   T_{ttt}⋅\\Delta\n",
       "───────────────────── + 0.0833333333333333⋅T_{tttt}⋅\\Delta t  + ──────────────\n",
       "             2                                                                \n",
       "  12⋅\\Delta x                                                          3⋅\\Delt\n",
       "\n",
       "  3                                                                           \n",
       " t ⋅\\alpha⋅d                                     2                            \n",
       "──────────── + 0.166666666666667⋅T_{ttt}⋅\\Delta t  + 1.0⋅T_{tt}⋅\\Delta t + 1.0\n",
       "   2                                                                          \n",
       "a x                                                                           \n",
       "\n",
       "                          2                                                   \n",
       "         T_{xxtt}⋅\\Delta t ⋅\\alpha⋅d                               T_{xxxxxx}⋅\n",
       "⋅T_{t} + ─────────────────────────── - T_{xxt}⋅\\Delta t⋅\\alpha⋅d - ───────────\n",
       "                      2                                                       \n",
       "                                                                              \n",
       "\n",
       "        4                               4                           2         \n",
       "\\Delta x ⋅\\alpha⋅d   T_{xxxxxx}⋅\\Delta x ⋅\\alpha   T_{xxxx}⋅\\Delta x ⋅\\alpha⋅d\n",
       "────────────────── - ─────────────────────────── - ───────────────────────────\n",
       "  360                            360                            12            \n",
       "                                                                              \n",
       "\n",
       "                    2                       \n",
       "   T_{xxxx}⋅\\Delta x ⋅\\alpha                \n",
       " - ───────────────────────── - T_{xx}⋅\\alpha\n",
       "               12                           \n",
       "                                            "
      ]
     },
     "execution_count": 13,
     "metadata": {},
     "output_type": "execute_result"
    }
   ],
   "source": [
    "from sympy import expand\n",
    "\n",
    "\n",
    "series_subs = discrete_eqn.subs(subs)\n",
    "expand(series_subs)"
   ]
  }
 ],
 "metadata": {
  "interpreter": {
   "hash": "a199bcbba3e821b8d5891eb4b89745fcafee7d77a7e399c5b6adbcca28439009"
  },
  "kernelspec": {
   "display_name": "Python 3.9.12 ('env': venv)",
   "language": "python",
   "name": "python3"
  },
  "language_info": {
   "codemirror_mode": {
    "name": "ipython",
    "version": 3
   },
   "file_extension": ".py",
   "mimetype": "text/x-python",
   "name": "python",
   "nbconvert_exporter": "python",
   "pygments_lexer": "ipython3",
   "version": "3.9.12"
  },
  "orig_nbformat": 4
 },
 "nbformat": 4,
 "nbformat_minor": 2
}
