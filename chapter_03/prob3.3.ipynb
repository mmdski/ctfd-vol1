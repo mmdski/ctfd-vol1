{
 "cells": [
  {
   "cell_type": "code",
   "execution_count": 1,
   "metadata": {},
   "outputs": [],
   "source": [
    "from sympy import symbols, factorial, init_printing, Symbol\n",
    "\n",
    "\n",
    "init_printing()\n",
    "x, x0 = symbols('x, x_0')\n",
    "dx = Symbol('\\Delta x')\n",
    "yj, yjp1, yjp2, yjm1, yjm2 = symbols('y_{j}, y_{j+1}, y_{j+2}, y_{j-1}, y_{j-2}')"
   ]
  },
  {
   "cell_type": "code",
   "execution_count": 2,
   "metadata": {},
   "outputs": [
    {
     "data": {
      "text/latex": [
       "$\\displaystyle \\sin{\\left(\\frac{\\pi x}{2} \\right)}$"
      ],
      "text/plain": [
       "   ⎛π⋅x⎞\n",
       "sin⎜───⎟\n",
       "   ⎝ 2 ⎠"
      ]
     },
     "execution_count": 2,
     "metadata": {},
     "output_type": "execute_result"
    }
   ],
   "source": [
    "from sympy import sin, pi\n",
    "\n",
    "\n",
    "y = sin(pi/2*x)\n",
    "y"
   ]
  },
  {
   "cell_type": "code",
   "execution_count": 3,
   "metadata": {},
   "outputs": [
    {
     "data": {
      "text/latex": [
       "$\\displaystyle \\frac{\\pi \\cos{\\left(\\frac{\\pi x}{2} \\right)}}{2}$"
      ],
      "text/plain": [
       "     ⎛π⋅x⎞\n",
       "π⋅cos⎜───⎟\n",
       "     ⎝ 2 ⎠\n",
       "──────────\n",
       "    2     "
      ]
     },
     "execution_count": 3,
     "metadata": {},
     "output_type": "execute_result"
    }
   ],
   "source": [
    "y_diff1 = y.diff(x)\n",
    "y_diff1"
   ]
  },
  {
   "cell_type": "code",
   "execution_count": 4,
   "metadata": {},
   "outputs": [
    {
     "data": {
      "text/latex": [
       "$\\displaystyle 1.11072073453959$"
      ],
      "text/plain": [
       "1.11072073453959"
      ]
     },
     "execution_count": 4,
     "metadata": {},
     "output_type": "execute_result"
    }
   ],
   "source": [
    "y_diff1.subs(x, 0.5).evalf()"
   ]
  },
  {
   "cell_type": "markdown",
   "metadata": {},
   "source": [
    "## 3.3 (a)"
   ]
  },
  {
   "cell_type": "code",
   "execution_count": 5,
   "metadata": {},
   "outputs": [
    {
     "data": {
      "text/latex": [
       "$\\displaystyle \\frac{y_{j+1} - y_{j-1}}{2 \\Delta x}$"
      ],
      "text/plain": [
       "y_{j+1} - y_{j-1}\n",
       "─────────────────\n",
       "    2⋅\\Delta x   "
      ]
     },
     "execution_count": 5,
     "metadata": {},
     "output_type": "execute_result"
    }
   ],
   "source": [
    "eqn_a = (yjp1 - yjm1)/(2*dx)\n",
    "eqn_a"
   ]
  },
  {
   "cell_type": "code",
   "execution_count": 6,
   "metadata": {},
   "outputs": [
    {
     "data": {
      "text/latex": [
       "$\\displaystyle \\frac{- \\sin{\\left(\\pi \\left(- \\frac{\\Delta x}{2} + \\frac{x_{0}}{2}\\right) \\right)} + \\sin{\\left(\\pi \\left(\\frac{\\Delta x}{2} + \\frac{x_{0}}{2}\\right) \\right)}}{2 \\Delta x}$"
      ],
      "text/plain": [
       "     ⎛  ⎛  \\Delta x   x₀⎞⎞      ⎛  ⎛\\Delta x   x₀⎞⎞\n",
       "- sin⎜π⋅⎜- ──────── + ──⎟⎟ + sin⎜π⋅⎜──────── + ──⎟⎟\n",
       "     ⎝  ⎝     2       2 ⎠⎠      ⎝  ⎝   2       2 ⎠⎠\n",
       "───────────────────────────────────────────────────\n",
       "                     2⋅\\Delta x                    "
      ]
     },
     "execution_count": 6,
     "metadata": {},
     "output_type": "execute_result"
    }
   ],
   "source": [
    "eqn_a_sub = eqn_a.subs([(yjp1, y.subs(x, x0+dx)), (yjm1, y.subs(x, x0-dx))])\n",
    "eqn_a_sub"
   ]
  },
  {
   "cell_type": "code",
   "execution_count": 7,
   "metadata": {},
   "outputs": [
    {
     "data": {
      "text/latex": [
       "$\\displaystyle 1.10615871041237$"
      ],
      "text/plain": [
       "1.10615871041237"
      ]
     },
     "execution_count": 7,
     "metadata": {},
     "output_type": "execute_result"
    }
   ],
   "source": [
    "(eqn_a_sub.subs([(x0, 0.5), (dx, 0.1)])).evalf()"
   ]
  },
  {
   "cell_type": "markdown",
   "metadata": {},
   "source": [
    "### Approximation error"
   ]
  },
  {
   "cell_type": "code",
   "execution_count": 8,
   "metadata": {},
   "outputs": [
    {
     "data": {
      "text/latex": [
       "$\\displaystyle -0.00456202412722033$"
      ],
      "text/plain": [
       "-0.00456202412722033"
      ]
     },
     "execution_count": 8,
     "metadata": {},
     "output_type": "execute_result"
    }
   ],
   "source": [
    "(eqn_a_sub.subs([(x0, 0.5), (dx, 0.1)]) - y_diff1.subs(x, 0.5)).evalf()"
   ]
  },
  {
   "cell_type": "markdown",
   "metadata": {},
   "source": [
    "## 3.3 (b)"
   ]
  },
  {
   "cell_type": "code",
   "execution_count": 9,
   "metadata": {},
   "outputs": [
    {
     "data": {
      "text/latex": [
       "$\\displaystyle \\frac{y_{j+1} - y_{j}}{\\Delta x}$"
      ],
      "text/plain": [
       "y_{j+1} - y_{j}\n",
       "───────────────\n",
       "    \\Delta x   "
      ]
     },
     "execution_count": 9,
     "metadata": {},
     "output_type": "execute_result"
    }
   ],
   "source": [
    "eqn_b = (yjp1 - yj)/dx\n",
    "eqn_b"
   ]
  },
  {
   "cell_type": "code",
   "execution_count": 10,
   "metadata": {},
   "outputs": [
    {
     "data": {
      "text/latex": [
       "$\\displaystyle \\frac{- \\sin{\\left(\\frac{\\pi x_{0}}{2} \\right)} + \\sin{\\left(\\pi \\left(\\frac{\\Delta x}{2} + \\frac{x_{0}}{2}\\right) \\right)}}{\\Delta x}$"
      ],
      "text/plain": [
       "     ⎛π⋅x₀⎞      ⎛  ⎛\\Delta x   x₀⎞⎞\n",
       "- sin⎜────⎟ + sin⎜π⋅⎜──────── + ──⎟⎟\n",
       "     ⎝ 2  ⎠      ⎝  ⎝   2       2 ⎠⎠\n",
       "────────────────────────────────────\n",
       "              \\Delta x              "
      ]
     },
     "execution_count": 10,
     "metadata": {},
     "output_type": "execute_result"
    }
   ],
   "source": [
    "eqn_b_sub = eqn_b.subs([(yjp1, y.subs(x, x0+dx)), (yj, y.subs(x, x0))])\n",
    "eqn_b_sub"
   ]
  },
  {
   "cell_type": "code",
   "execution_count": 11,
   "metadata": {},
   "outputs": [
    {
     "data": {
      "text/latex": [
       "$\\displaystyle 1.019102131884$"
      ],
      "text/plain": [
       "1.01910213188400"
      ]
     },
     "execution_count": 11,
     "metadata": {},
     "output_type": "execute_result"
    }
   ],
   "source": [
    "eqn_b_sub.subs([(x0, 0.5), (dx, 0.1)]).evalf()"
   ]
  },
  {
   "cell_type": "markdown",
   "metadata": {},
   "source": [
    "### Approximatin error"
   ]
  },
  {
   "cell_type": "code",
   "execution_count": 12,
   "metadata": {},
   "outputs": [
    {
     "data": {
      "text/latex": [
       "$\\displaystyle -0.0916186026555928$"
      ],
      "text/plain": [
       "-0.0916186026555928"
      ]
     },
     "execution_count": 12,
     "metadata": {},
     "output_type": "execute_result"
    }
   ],
   "source": [
    "(eqn_b_sub.subs([(x0, 0.5), (dx, 0.1)]) - y_diff1.subs(x, 0.5)).evalf()"
   ]
  },
  {
   "cell_type": "markdown",
   "metadata": {},
   "source": [
    "## 3.3 (c)"
   ]
  },
  {
   "cell_type": "code",
   "execution_count": 13,
   "metadata": {},
   "outputs": [
    {
     "data": {
      "text/latex": [
       "$\\displaystyle \\frac{8 y_{j+1} - y_{j+2} - 8 y_{j-1} + y_{j-2}}{12 \\Delta x}$"
      ],
      "text/plain": [
       "8⋅y_{j+1} - y_{j+2} - 8⋅y_{j-1} + y_{j-2}\n",
       "─────────────────────────────────────────\n",
       "               12⋅\\Delta x               "
      ]
     },
     "execution_count": 13,
     "metadata": {},
     "output_type": "execute_result"
    }
   ],
   "source": [
    "eqn_c = (yjm2 - 8*yjm1 + 8*yjp1 - yjp2)/(12*dx)\n",
    "eqn_c"
   ]
  },
  {
   "cell_type": "code",
   "execution_count": 14,
   "metadata": {},
   "outputs": [
    {
     "data": {
      "text/latex": [
       "$\\displaystyle \\frac{\\sin{\\left(\\pi \\left(- \\Delta x + \\frac{x_{0}}{2}\\right) \\right)} - 8 \\sin{\\left(\\pi \\left(- \\frac{\\Delta x}{2} + \\frac{x_{0}}{2}\\right) \\right)} + 8 \\sin{\\left(\\pi \\left(\\frac{\\Delta x}{2} + \\frac{x_{0}}{2}\\right) \\right)} - \\sin{\\left(\\pi \\left(\\Delta x + \\frac{x_{0}}{2}\\right) \\right)}}{12 \\Delta x}$"
      ],
      "text/plain": [
       "   ⎛  ⎛            x₀⎞⎞        ⎛  ⎛  \\Delta x   x₀⎞⎞        ⎛  ⎛\\Delta x   x₀⎞\n",
       "sin⎜π⋅⎜-\\Delta x + ──⎟⎟ - 8⋅sin⎜π⋅⎜- ──────── + ──⎟⎟ + 8⋅sin⎜π⋅⎜──────── + ──⎟\n",
       "   ⎝  ⎝            2 ⎠⎠        ⎝  ⎝     2       2 ⎠⎠        ⎝  ⎝   2       2 ⎠\n",
       "──────────────────────────────────────────────────────────────────────────────\n",
       "                                              12⋅\\Delta x                     \n",
       "\n",
       "⎞      ⎛  ⎛           x₀⎞⎞\n",
       "⎟ - sin⎜π⋅⎜\\Delta x + ──⎟⎟\n",
       "⎠      ⎝  ⎝           2 ⎠⎠\n",
       "──────────────────────────\n",
       "                          "
      ]
     },
     "execution_count": 14,
     "metadata": {},
     "output_type": "execute_result"
    }
   ],
   "source": [
    "eqn_c_subs = eqn_c.subs([\n",
    "    (yjm2, y.subs(x, x0 - 2*dx)), \n",
    "    (yjm1, y.subs(x, x0 - dx)), \n",
    "    (yjp1, y.subs(x, x0 + dx)), \n",
    "    (yjp2, y.subs(x, x0 + 2*dx))\n",
    "    ])\n",
    "eqn_c_subs"
   ]
  },
  {
   "cell_type": "code",
   "execution_count": 15,
   "metadata": {},
   "outputs": [
    {
     "data": {
      "text/latex": [
       "$\\displaystyle 1.11069826017581$"
      ],
      "text/plain": [
       "1.11069826017581"
      ]
     },
     "execution_count": 15,
     "metadata": {},
     "output_type": "execute_result"
    }
   ],
   "source": [
    "eqn_c_subs.subs([(x0, 0.5), (dx, 0.1)]).evalf()"
   ]
  },
  {
   "cell_type": "markdown",
   "metadata": {},
   "source": [
    "### Approximation error"
   ]
  },
  {
   "cell_type": "code",
   "execution_count": 16,
   "metadata": {},
   "outputs": [
    {
     "data": {
      "text/latex": [
       "$\\displaystyle -2.24743637808979 \\cdot 10^{-5}$"
      ],
      "text/plain": [
       "-2.24743637808979e-5"
      ]
     },
     "execution_count": 16,
     "metadata": {},
     "output_type": "execute_result"
    }
   ],
   "source": [
    "(eqn_c_subs.subs([(x0, 0.5), (dx, 0.1)]) - y_diff1.subs(x, 0.5)).evalf()"
   ]
  }
 ],
 "metadata": {
  "interpreter": {
   "hash": "a199bcbba3e821b8d5891eb4b89745fcafee7d77a7e399c5b6adbcca28439009"
  },
  "kernelspec": {
   "display_name": "Python 3.9.12 ('env': venv)",
   "language": "python",
   "name": "python3"
  },
  "language_info": {
   "codemirror_mode": {
    "name": "ipython",
    "version": 3
   },
   "file_extension": ".py",
   "mimetype": "text/x-python",
   "name": "python",
   "nbconvert_exporter": "python",
   "pygments_lexer": "ipython3",
   "version": "3.9.13"
  },
  "orig_nbformat": 4
 },
 "nbformat": 4,
 "nbformat_minor": 2
}
