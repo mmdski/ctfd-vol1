{
 "cells": [
  {
   "cell_type": "code",
   "execution_count": 1,
   "metadata": {},
   "outputs": [],
   "source": [
    "from IPython.core.display import Markdown\n",
    "from IPython.display import display\n",
    "\n",
    "from sympy import symbols, expand, factorial, init_printing, Symbol, together\n",
    "\n",
    "\n",
    "init_printing()\n",
    "x, x0 = symbols('x, x_0')\n",
    "dx = Symbol('\\Delta x')\n",
    "Deltax = [0.1, 0.05, 0.025, 0.0125]\n",
    "yj, yjp1, yjp2, yjm1, yjm2 = symbols('y_{j}, y_{j+1}, y_{j+2}, y_{j-1}, y_{j-2}')\n",
    "n = 10\n",
    "y_prime = symbols(' '.join(['y^{{{:}}}'.format(i*\"\\prime\") for i in range(n)]))\n",
    "def P(x, x0, c, n):\n",
    "    return sum( ((1/factorial(i)) * (x - x0)**i*c[i] for i in range(n)))"
   ]
  },
  {
   "cell_type": "code",
   "execution_count": 2,
   "metadata": {},
   "outputs": [
    {
     "data": {
      "text/latex": [
       "$\\displaystyle \\sin{\\left(\\frac{\\pi x}{2} \\right)}$"
      ],
      "text/plain": [
       "   ⎛π⋅x⎞\n",
       "sin⎜───⎟\n",
       "   ⎝ 2 ⎠"
      ]
     },
     "execution_count": 2,
     "metadata": {},
     "output_type": "execute_result"
    }
   ],
   "source": [
    "from sympy import sin, pi\n",
    "\n",
    "\n",
    "y = sin(pi/2*x)\n",
    "y"
   ]
  },
  {
   "cell_type": "code",
   "execution_count": 3,
   "metadata": {},
   "outputs": [
    {
     "data": {
      "text/latex": [
       "$\\displaystyle - \\frac{\\pi^{2} \\sin{\\left(\\frac{\\pi x}{2} \\right)}}{4}$"
      ],
      "text/plain": [
       "  2    ⎛π⋅x⎞ \n",
       "-π ⋅sin⎜───⎟ \n",
       "       ⎝ 2 ⎠ \n",
       "─────────────\n",
       "      4      "
      ]
     },
     "execution_count": 3,
     "metadata": {},
     "output_type": "execute_result"
    }
   ],
   "source": [
    "y_diff2 = y.diff(x, x)\n",
    "y_diff2"
   ]
  },
  {
   "cell_type": "code",
   "execution_count": 4,
   "metadata": {},
   "outputs": [
    {
     "data": {
      "text/latex": [
       "$\\displaystyle -1.74471604990972$"
      ],
      "text/plain": [
       "-1.74471604990972"
      ]
     },
     "execution_count": 4,
     "metadata": {},
     "output_type": "execute_result"
    }
   ],
   "source": [
    "y_diff2.subs(x, 0.5).evalf()"
   ]
  },
  {
   "cell_type": "markdown",
   "metadata": {},
   "source": [
    "## 3.3 (a)"
   ]
  },
  {
   "cell_type": "code",
   "execution_count": 5,
   "metadata": {},
   "outputs": [
    {
     "data": {
      "text/latex": [
       "$\\displaystyle \\frac{y_{j+1} + y_{j-1} - 2 y_{j}}{\\Delta x^{2}}$"
      ],
      "text/plain": [
       "y_{j+1} + y_{j-1} - 2⋅y_{j}\n",
       "───────────────────────────\n",
       "                 2         \n",
       "         \\Delta x          "
      ]
     },
     "execution_count": 5,
     "metadata": {},
     "output_type": "execute_result"
    }
   ],
   "source": [
    "eqn_a = (yjm1 - 2*yj + yjp1)/(dx**2)\n",
    "eqn_a"
   ]
  },
  {
   "cell_type": "code",
   "execution_count": 6,
   "metadata": {},
   "outputs": [
    {
     "data": {
      "text/latex": [
       "$\\displaystyle \\frac{\\Delta x^{2} y^{\\prime\\prime\\prime\\prime}}{12} + y^{\\prime\\prime}$"
      ],
      "text/plain": [
       "        2                                                  \n",
       "\\Delta x ⋅y__{\\prime\\prime\\prime\\prime}                    \n",
       "─────────────────────────────────────── + y__{\\prime\\prime}\n",
       "                   12                                      "
      ]
     },
     "execution_count": 6,
     "metadata": {},
     "output_type": "execute_result"
    }
   ],
   "source": [
    "n_a_terms = 5\n",
    "eqn_a_series = expand(eqn_a.subs([\n",
    "    (yjp1, P(x0 + dx, x0, y_prime, n_a_terms)),\n",
    "    (yj, P(x0, x0, y_prime, n_a_terms)),\n",
    "    (yjm1, P(x0 - dx, x0, y_prime, n_a_terms))\n",
    "    ]))\n",
    "eqn_a_series"
   ]
  },
  {
   "cell_type": "code",
   "execution_count": 7,
   "metadata": {},
   "outputs": [
    {
     "data": {
      "text/latex": [
       "$\\displaystyle \\frac{\\Delta x^{2} y^{\\prime\\prime\\prime\\prime}}{12}$"
      ],
      "text/plain": [
       "        2                              \n",
       "\\Delta x ⋅y__{\\prime\\prime\\prime\\prime}\n",
       "───────────────────────────────────────\n",
       "                   12                  "
      ]
     },
     "execution_count": 7,
     "metadata": {},
     "output_type": "execute_result"
    }
   ],
   "source": [
    "eqn_a_leading_err = eqn_a_series - y_prime[2]\n",
    "eqn_a_leading_err"
   ]
  },
  {
   "cell_type": "code",
   "execution_count": 8,
   "metadata": {},
   "outputs": [
    {
     "data": {
      "text/latex": [
       "$\\displaystyle \\frac{\\pi^{4} \\Delta x^{2} \\sin{\\left(\\frac{\\pi x_{0}}{2} \\right)}}{192}$"
      ],
      "text/plain": [
       " 4         2    ⎛π⋅x₀⎞\n",
       "π ⋅\\Delta x ⋅sin⎜────⎟\n",
       "                ⎝ 2  ⎠\n",
       "──────────────────────\n",
       "         192          "
      ]
     },
     "execution_count": 8,
     "metadata": {},
     "output_type": "execute_result"
    }
   ],
   "source": [
    "eqn_a_lead_err_sub = eqn_a_leading_err.subs(y_prime[4], y.diff(x, x, x, x)).subs(x, x0)\n",
    "eqn_a_lead_err_sub"
   ]
  },
  {
   "cell_type": "code",
   "execution_count": 9,
   "metadata": {},
   "outputs": [
    {
     "data": {
      "text/latex": [
       "$\\displaystyle \\frac{- 2 \\sin{\\left(\\frac{\\pi x_{0}}{2} \\right)} + \\sin{\\left(\\pi \\left(- \\frac{\\Delta x}{2} + \\frac{x_{0}}{2}\\right) \\right)} + \\sin{\\left(\\pi \\left(\\frac{\\Delta x}{2} + \\frac{x_{0}}{2}\\right) \\right)}}{\\Delta x^{2}}$"
      ],
      "text/plain": [
       "       ⎛π⋅x₀⎞      ⎛  ⎛  \\Delta x   x₀⎞⎞      ⎛  ⎛\\Delta x   x₀⎞⎞\n",
       "- 2⋅sin⎜────⎟ + sin⎜π⋅⎜- ──────── + ──⎟⎟ + sin⎜π⋅⎜──────── + ──⎟⎟\n",
       "       ⎝ 2  ⎠      ⎝  ⎝     2       2 ⎠⎠      ⎝  ⎝   2       2 ⎠⎠\n",
       "─────────────────────────────────────────────────────────────────\n",
       "                                    2                            \n",
       "                            \\Delta x                             "
      ]
     },
     "execution_count": 9,
     "metadata": {},
     "output_type": "execute_result"
    }
   ],
   "source": [
    "eqn_a_sub = eqn_a.subs([\n",
    "    (yjp1, y.subs(x, x0+dx)),\n",
    "    (yj, y.subs(x, x0)),\n",
    "    (yjm1, y.subs(x, x0-dx))\n",
    "    ])\n",
    "eqn_a_sub"
   ]
  },
  {
   "cell_type": "code",
   "execution_count": 10,
   "metadata": {},
   "outputs": [
    {
     "data": {
      "text/latex": [
       "$\\displaystyle -1.74113157056745$"
      ],
      "text/plain": [
       "-1.74113157056745"
      ]
     },
     "execution_count": 10,
     "metadata": {},
     "output_type": "execute_result"
    }
   ],
   "source": [
    "(eqn_a_sub.subs([(x0, 0.5), (dx, 0.1)])).evalf()"
   ]
  },
  {
   "cell_type": "markdown",
   "metadata": {},
   "source": [
    "### Approximation error"
   ]
  },
  {
   "cell_type": "code",
   "execution_count": 11,
   "metadata": {},
   "outputs": [
    {
     "data": {
      "text/markdown": [
       "$\\Delta x$ = 0.1000, err =  3.5845e-3, lead err term =  3.5874e-3"
      ],
      "text/plain": [
       "<IPython.core.display.Markdown object>"
      ]
     },
     "metadata": {},
     "output_type": "display_data"
    },
    {
     "data": {
      "text/markdown": [
       "$\\Delta x$ = 0.0500, err =  8.9667e-4, lead err term =  8.9686e-4"
      ],
      "text/plain": [
       "<IPython.core.display.Markdown object>"
      ]
     },
     "metadata": {},
     "output_type": "display_data"
    },
    {
     "data": {
      "text/markdown": [
       "$\\Delta x$ = 0.0250, err =  2.2420e-4, lead err term =  2.2421e-4"
      ],
      "text/plain": [
       "<IPython.core.display.Markdown object>"
      ]
     },
     "metadata": {},
     "output_type": "display_data"
    },
    {
     "data": {
      "text/markdown": [
       "$\\Delta x$ = 0.0125, err =  5.6053e-5, lead err term =  5.6054e-5"
      ],
      "text/plain": [
       "<IPython.core.display.Markdown object>"
      ]
     },
     "metadata": {},
     "output_type": "display_data"
    }
   ],
   "source": [
    "for Dx in Deltax:\n",
    "    err = (eqn_a_sub.subs([(x0, 0.5), (dx, Dx)]) - y_diff2.subs(x, 0.5)).evalf()\n",
    "    lead_err = eqn_a_lead_err_sub.subs([(x0, 0.5), (dx, Dx)]).evalf()\n",
    "    display(Markdown(\"$\" + repr(dx) + \"$ = {:5.4f}, err = {:10.4e}, lead err term = {:10.4e}\".format(Dx, err, lead_err)))"
   ]
  },
  {
   "cell_type": "markdown",
   "metadata": {},
   "source": [
    "## 3.3 (b)"
   ]
  },
  {
   "cell_type": "code",
   "execution_count": 12,
   "metadata": {},
   "outputs": [
    {
     "data": {
      "text/latex": [
       "$\\displaystyle \\frac{16 y_{j+1} - y_{j+2} + 16 y_{j-1} - y_{j-2} - 30 y_{j}}{12 \\Delta x^{2}}$"
      ],
      "text/plain": [
       "16⋅y_{j+1} - y_{j+2} + 16⋅y_{j-1} - y_{j-2} - 30⋅y_{j}\n",
       "──────────────────────────────────────────────────────\n",
       "                                2                     \n",
       "                     12⋅\\Delta x                      "
      ]
     },
     "execution_count": 12,
     "metadata": {},
     "output_type": "execute_result"
    }
   ],
   "source": [
    "eqn_b = (-yjm2 + 16*yjm1 - 30*yj + 16*yjp1 - yjp2)/(12*dx**2)\n",
    "eqn_b"
   ]
  },
  {
   "cell_type": "code",
   "execution_count": 13,
   "metadata": {},
   "outputs": [
    {
     "data": {
      "text/latex": [
       "$\\displaystyle - \\frac{\\Delta x^{4} y^{\\prime\\prime\\prime\\prime\\prime\\prime}}{90} + y^{\\prime\\prime}$"
      ],
      "text/plain": [
       "          4                                                              \n",
       "  \\Delta x ⋅y__{\\prime\\prime\\prime\\prime\\prime\\prime}                    \n",
       "- ─────────────────────────────────────────────────── + y__{\\prime\\prime}\n",
       "                           90                                            "
      ]
     },
     "execution_count": 13,
     "metadata": {},
     "output_type": "execute_result"
    }
   ],
   "source": [
    "n_b_terms = 7\n",
    "eqn_b_series = expand(eqn_b.subs([\n",
    "    (yjm2, P(x0 - 2*dx, x0, y_prime, n_b_terms)),\n",
    "    (yjm1, P(x0 - dx, x0, y_prime, n_b_terms)),\n",
    "    (yj, P(x0, x0, y_prime, n_b_terms)),\n",
    "    (yjp1, P(x0 + dx, x0, y_prime, n_b_terms)),\n",
    "    (yjp2, P(x0 + 2*dx, x0, y_prime, n_b_terms))\n",
    "    ]))\n",
    "eqn_b_series"
   ]
  },
  {
   "cell_type": "code",
   "execution_count": 14,
   "metadata": {},
   "outputs": [
    {
     "data": {
      "text/latex": [
       "$\\displaystyle - \\frac{\\Delta x^{4} y^{\\prime\\prime\\prime\\prime\\prime\\prime}}{90}$"
      ],
      "text/plain": [
       "         4                                           \n",
       "-\\Delta x ⋅y__{\\prime\\prime\\prime\\prime\\prime\\prime} \n",
       "─────────────────────────────────────────────────────\n",
       "                          90                         "
      ]
     },
     "execution_count": 14,
     "metadata": {},
     "output_type": "execute_result"
    }
   ],
   "source": [
    "eqn_b_leading_err = expand(eqn_b_series - y_prime[2])\n",
    "eqn_b_leading_err"
   ]
  },
  {
   "cell_type": "code",
   "execution_count": 15,
   "metadata": {},
   "outputs": [
    {
     "data": {
      "text/latex": [
       "$\\displaystyle \\frac{\\pi^{6} \\Delta x^{4} \\sin{\\left(\\frac{\\pi x_{0}}{2} \\right)}}{5760}$"
      ],
      "text/plain": [
       " 6         4    ⎛π⋅x₀⎞\n",
       "π ⋅\\Delta x ⋅sin⎜────⎟\n",
       "                ⎝ 2  ⎠\n",
       "──────────────────────\n",
       "         5760         "
      ]
     },
     "execution_count": 15,
     "metadata": {},
     "output_type": "execute_result"
    }
   ],
   "source": [
    "eqn_b_lead_err_sub = eqn_b_leading_err.subs(y_prime[6], y.diff(x, x, x, x, x, x)).subs(x, x0)\n",
    "eqn_b_lead_err_sub"
   ]
  },
  {
   "cell_type": "code",
   "execution_count": 16,
   "metadata": {},
   "outputs": [
    {
     "data": {
      "text/latex": [
       "$\\displaystyle \\frac{- 30 \\sin{\\left(\\frac{\\pi x_{0}}{2} \\right)} - \\sin{\\left(\\pi \\left(- \\Delta x + \\frac{x_{0}}{2}\\right) \\right)} + 16 \\sin{\\left(\\pi \\left(- \\frac{\\Delta x}{2} + \\frac{x_{0}}{2}\\right) \\right)} + 16 \\sin{\\left(\\pi \\left(\\frac{\\Delta x}{2} + \\frac{x_{0}}{2}\\right) \\right)} - \\sin{\\left(\\pi \\left(\\Delta x + \\frac{x_{0}}{2}\\right) \\right)}}{12 \\Delta x^{2}}$"
      ],
      "text/plain": [
       "        ⎛π⋅x₀⎞      ⎛  ⎛            x₀⎞⎞         ⎛  ⎛  \\Delta x   x₀⎞⎞        \n",
       "- 30⋅sin⎜────⎟ - sin⎜π⋅⎜-\\Delta x + ──⎟⎟ + 16⋅sin⎜π⋅⎜- ──────── + ──⎟⎟ + 16⋅si\n",
       "        ⎝ 2  ⎠      ⎝  ⎝            2 ⎠⎠         ⎝  ⎝     2       2 ⎠⎠        \n",
       "──────────────────────────────────────────────────────────────────────────────\n",
       "                                                                   2          \n",
       "                                                        12⋅\\Delta x           \n",
       "\n",
       " ⎛  ⎛\\Delta x   x₀⎞⎞      ⎛  ⎛           x₀⎞⎞\n",
       "n⎜π⋅⎜──────── + ──⎟⎟ - sin⎜π⋅⎜\\Delta x + ──⎟⎟\n",
       " ⎝  ⎝   2       2 ⎠⎠      ⎝  ⎝           2 ⎠⎠\n",
       "─────────────────────────────────────────────\n",
       "                                             \n",
       "                                             "
      ]
     },
     "execution_count": 16,
     "metadata": {},
     "output_type": "execute_result"
    }
   ],
   "source": [
    "eqn_b_sub = eqn_b.subs([\n",
    "    (yjm2, y.subs(x, x0 - 2*dx)),\n",
    "    (yjm1, y.subs(x, x0 - dx)),\n",
    "    (yj, y.subs(x, x0)),\n",
    "    (yjp1, y.subs(x, x0 + dx)),\n",
    "    (yjp2, y.subs(x, x0 + 2*dx))\n",
    "    ])\n",
    "eqn_b_sub"
   ]
  },
  {
   "cell_type": "code",
   "execution_count": 17,
   "metadata": {},
   "outputs": [
    {
     "data": {
      "text/latex": [
       "$\\displaystyle -1.74470427371343$"
      ],
      "text/plain": [
       "-1.74470427371343"
      ]
     },
     "execution_count": 17,
     "metadata": {},
     "output_type": "execute_result"
    }
   ],
   "source": [
    "eqn_b_sub.subs([(x0, 0.5), (dx, 0.1)]).evalf()"
   ]
  },
  {
   "cell_type": "markdown",
   "metadata": {},
   "source": [
    "### Approximation error"
   ]
  },
  {
   "cell_type": "code",
   "execution_count": 18,
   "metadata": {},
   "outputs": [
    {
     "data": {
      "text/markdown": [
       "$\\Delta x$ = 0.1000, err =  1.1776e-5, lead err term =  1.1802e-5"
      ],
      "text/plain": [
       "<IPython.core.display.Markdown object>"
      ]
     },
     "metadata": {},
     "output_type": "display_data"
    },
    {
     "data": {
      "text/markdown": [
       "$\\Delta x$ = 0.0500, err =  7.3723e-7, lead err term =  7.3764e-7"
      ],
      "text/plain": [
       "<IPython.core.display.Markdown object>"
      ]
     },
     "metadata": {},
     "output_type": "display_data"
    },
    {
     "data": {
      "text/markdown": [
       "$\\Delta x$ = 0.0250, err =  4.6096e-8, lead err term =  4.6102e-8"
      ],
      "text/plain": [
       "<IPython.core.display.Markdown object>"
      ]
     },
     "metadata": {},
     "output_type": "display_data"
    },
    {
     "data": {
      "text/markdown": [
       "$\\Delta x$ = 0.0125, err =  2.8804e-9, lead err term =  2.8814e-9"
      ],
      "text/plain": [
       "<IPython.core.display.Markdown object>"
      ]
     },
     "metadata": {},
     "output_type": "display_data"
    }
   ],
   "source": [
    "for Dx in Deltax:\n",
    "    err = (eqn_b_sub.subs([(x0, 0.5), (dx, Dx)]) - y_diff2.subs(x, 0.5)).evalf()\n",
    "    lead_err = eqn_b_lead_err_sub.subs([(x0, 0.5), (dx, Dx)]).evalf()\n",
    "    display(Markdown(\"$\" + repr(dx) + \"$ = {:5.4f}, err = {:10.4e}, lead err term = {:10.4e}\".format(Dx, err, lead_err)))"
   ]
  }
 ],
 "metadata": {
  "interpreter": {
   "hash": "a199bcbba3e821b8d5891eb4b89745fcafee7d77a7e399c5b6adbcca28439009"
  },
  "kernelspec": {
   "display_name": "Python 3.9.12 ('env': venv)",
   "language": "python",
   "name": "python3"
  },
  "language_info": {
   "codemirror_mode": {
    "name": "ipython",
    "version": 3
   },
   "file_extension": ".py",
   "mimetype": "text/x-python",
   "name": "python",
   "nbconvert_exporter": "python",
   "pygments_lexer": "ipython3",
   "version": "3.9.13"
  },
  "orig_nbformat": 4
 },
 "nbformat": 4,
 "nbformat_minor": 2
}
