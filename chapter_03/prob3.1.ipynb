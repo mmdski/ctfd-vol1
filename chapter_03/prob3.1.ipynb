{
 "cells": [
  {
   "cell_type": "code",
   "execution_count": 1,
   "metadata": {},
   "outputs": [],
   "source": [
    "from __future__ import print_function\n",
    "from sympy import symbols, factorial, init_printing, Symbol\n",
    "\n",
    "init_printing()\n",
    "x, x0 = symbols('x, x_0')\n",
    "h = Symbol('\\Delta x')\n",
    "Ti, Tip1, Tip2, Tip3 = symbols('T_{i}, T_{i+1}, T_{i+2} T_{i+3}')\n",
    "n = 4\n",
    "dT = symbols('T ' + ' '.join(['T_{{{:s}}}'.format(i*'x') for i in range(1, n+1)]))\n",
    "def P(x, x0, c, n):\n",
    "    return sum( ((1/factorial(i)) * (x - x0)**i*c[i] for i in range(n)))"
   ]
  },
  {
   "cell_type": "code",
   "execution_count": 2,
   "metadata": {},
   "outputs": [
    {
     "data": {
      "text/latex": [
       "$\\displaystyle \\left[\\begin{matrix}1 & 0 & 0 & 0\\\\1 & \\Delta x & \\frac{\\Delta x^{2}}{2} & \\frac{\\Delta x^{3}}{6}\\\\1 & 2 \\Delta x & 2 \\Delta x^{2} & \\frac{4 \\Delta x^{3}}{3}\\\\1 & 3 \\Delta x & \\frac{9 \\Delta x^{2}}{2} & \\frac{9 \\Delta x^{3}}{2}\\end{matrix}\\right]$"
      ],
      "text/plain": [
       "⎡1      0            0            0     ⎤\n",
       "⎢                                       ⎥\n",
       "⎢                        2            3 ⎥\n",
       "⎢                \\Delta x     \\Delta x  ⎥\n",
       "⎢1   \\Delta x    ─────────    ───────── ⎥\n",
       "⎢                    2            6     ⎥\n",
       "⎢                                       ⎥\n",
       "⎢                                      3⎥\n",
       "⎢                         2  4⋅\\Delta x ⎥\n",
       "⎢1  2⋅\\Delta x  2⋅\\Delta x   ───────────⎥\n",
       "⎢                                 3     ⎥\n",
       "⎢                                       ⎥\n",
       "⎢                         2            3⎥\n",
       "⎢               9⋅\\Delta x   9⋅\\Delta x ⎥\n",
       "⎢1  3⋅\\Delta x  ───────────  ───────────⎥\n",
       "⎣                    2            2     ⎦"
      ]
     },
     "execution_count": 2,
     "metadata": {},
     "output_type": "execute_result"
    }
   ],
   "source": [
    "from sympy import Matrix\n",
    "\n",
    "\n",
    "m = []\n",
    "for i in range(n):\n",
    "    p = P(x0+i*h, x0, dT, n)\n",
    "    row = []\n",
    "    for j in range(n):\n",
    "        row.append(p.diff(dT[j]))\n",
    "    m.append(row)\n",
    "M = Matrix(m)\n",
    "M"
   ]
  },
  {
   "cell_type": "code",
   "execution_count": 3,
   "metadata": {},
   "outputs": [
    {
     "data": {
      "text/latex": [
       "$\\displaystyle \\left[\\begin{matrix}T_{i}\\\\T_{i+1}\\\\T_{i+2}\\\\T_{i+3}\\end{matrix}\\right]$"
      ],
      "text/plain": [
       "⎡ T_{i} ⎤\n",
       "⎢       ⎥\n",
       "⎢T_{i+1}⎥\n",
       "⎢       ⎥\n",
       "⎢T_{i+2}⎥\n",
       "⎢       ⎥\n",
       "⎣T_{i+3}⎦"
      ]
     },
     "execution_count": 3,
     "metadata": {},
     "output_type": "execute_result"
    }
   ],
   "source": [
    "R = Matrix([Ti, Tip1, Tip2, Tip3])\n",
    "R"
   ]
  },
  {
   "cell_type": "code",
   "execution_count": 4,
   "metadata": {},
   "outputs": [
    {
     "data": {
      "text/latex": [
       "$\\displaystyle \\frac{- 5 T_{i+1} + 4 T_{i+2} - T_{i+3} + 2 T_{i}}{\\Delta x^{2}}$"
      ],
      "text/plain": [
       "-5⋅T_{i+1} + 4⋅T_{i+2} - T_{i+3} + 2⋅T_{i}\n",
       "──────────────────────────────────────────\n",
       "                        2                 \n",
       "                \\Delta x                  "
      ]
     },
     "execution_count": 4,
     "metadata": {},
     "output_type": "execute_result"
    }
   ],
   "source": [
    "from sympy import together\n",
    "\n",
    "\n",
    "X = M.inv()*R\n",
    "together(X[2])"
   ]
  },
  {
   "cell_type": "code",
   "execution_count": 5,
   "metadata": {},
   "outputs": [
    {
     "data": {
      "text/latex": [
       "$\\displaystyle \\left( \\frac{2}{\\Delta x^{2}}, \\  - \\frac{5}{\\Delta x^{2}}, \\  \\frac{4}{\\Delta x^{2}}, \\  - \\frac{1}{\\Delta x^{2}}\\right)$"
      ],
      "text/plain": [
       "⎛    2         -5          4         -1    ⎞\n",
       "⎜─────────, ─────────, ─────────, ─────────⎟\n",
       "⎜        2          2          2          2⎟\n",
       "⎝\\Delta x   \\Delta x   \\Delta x   \\Delta x ⎠"
      ]
     },
     "execution_count": 5,
     "metadata": {},
     "output_type": "execute_result"
    }
   ],
   "source": [
    "a = X[2].diff(Ti)\n",
    "b = X[2].diff(Tip1)\n",
    "c = X[2].diff(Tip2)\n",
    "d = X[2].diff(Tip3)\n",
    "\n",
    "a, b, c, d"
   ]
  },
  {
   "cell_type": "code",
   "execution_count": 6,
   "metadata": {},
   "outputs": [
    {
     "data": {
      "text/latex": [
       "$\\displaystyle - \\frac{11 T_{xxxx} \\Delta x^{2}}{12}$"
      ],
      "text/plain": [
       "                     2 \n",
       "-11⋅T_{xxxx}⋅\\Delta x  \n",
       "───────────────────────\n",
       "           12          "
      ]
     },
     "execution_count": 6,
     "metadata": {},
     "output_type": "execute_result"
    }
   ],
   "source": [
    "from sympy import simplify\n",
    "\n",
    "\n",
    "simplify((a*P(x0, x0, dT, 5) + b*P(x0+h, x0, dT, 5) + c*P(x0+2*h, x0, dT, 5) + d*P(x0+3*h, x0, dT, 5)) - dT[2])"
   ]
  }
 ],
 "metadata": {
  "interpreter": {
   "hash": "a199bcbba3e821b8d5891eb4b89745fcafee7d77a7e399c5b6adbcca28439009"
  },
  "kernelspec": {
   "display_name": "Python 3.9.12 ('env': venv)",
   "language": "python",
   "name": "python3"
  },
  "language_info": {
   "codemirror_mode": {
    "name": "ipython",
    "version": 3
   },
   "file_extension": ".py",
   "mimetype": "text/x-python",
   "name": "python",
   "nbconvert_exporter": "python",
   "pygments_lexer": "ipython3",
   "version": "3.9.12"
  },
  "orig_nbformat": 4
 },
 "nbformat": 4,
 "nbformat_minor": 2
}
