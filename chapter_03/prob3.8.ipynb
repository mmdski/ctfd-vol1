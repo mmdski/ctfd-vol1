{
 "cells": [
  {
   "cell_type": "code",
   "execution_count": 1,
   "metadata": {},
   "outputs": [],
   "source": [
    "from sympy import symbols, expand, init_printing, Symbol, simplify\n",
    "\n",
    "\n",
    "init_printing()\n",
    "alpha = Symbol('\\\\alpha')\n",
    "dx = Symbol('\\Delta x')\n",
    "dt = Symbol('\\Delta t')\n",
    "Tjnm1, Tjn, Tjnp1, Tjm1n, Tjp1n = symbols('T_{j}^{n-1}, T_{j}^{n}, T_{j+1}^n, T_{j-1}^{n}, T_{j+1}^{n}')"
   ]
  },
  {
   "cell_type": "code",
   "execution_count": 2,
   "metadata": {},
   "outputs": [
    {
     "data": {
      "text/latex": [
       "$\\displaystyle - \\frac{\\alpha \\left(T_{j+1}^{n} + T_{j-1}^{n} - 2 T_{j}^{n}\\right)}{\\Delta x^{2}} + \\frac{1.5 T_{j+1}^n + 0.5 T_{j}^{n-1} - 2 T_{j}^{n}}{\\Delta t}$"
      ],
      "text/plain": [
       "  \\alpha⋅(T_{j+1}__{n} + T_{j-1}__{n} - 2⋅T_{j}__{n})   1.5⋅T_{j+1}__n + 0.5⋅T\n",
       "- ─────────────────────────────────────────────────── + ──────────────────────\n",
       "                               2                                            \\D\n",
       "                       \\Delta x                                               \n",
       "\n",
       "_{j}__{n-1} - 2⋅T_{j}__{n}\n",
       "──────────────────────────\n",
       "elta t                    \n",
       "                          "
      ]
     },
     "execution_count": 2,
     "metadata": {},
     "output_type": "execute_result"
    }
   ],
   "source": [
    "discrete_eq = (1/2*Tjnm1 - 2*Tjn + 3/2*Tjnp1)/dt - alpha*(Tjm1n - 2*Tjn + Tjp1n)/dx**2\n",
    "discrete_eq"
   ]
  },
  {
   "cell_type": "code",
   "execution_count": 6,
   "metadata": {},
   "outputs": [
    {
     "data": {
      "text/latex": [
       "$\\displaystyle \\frac{2 T_{j+1}^{n} \\Delta t \\alpha}{3 \\Delta x^{2}} + \\frac{2 T_{j-1}^{n} \\Delta t \\alpha}{3 \\Delta x^{2}} - \\frac{T_{j}^{n-1}}{3} + T_{j}^{n} \\left(- \\frac{4 \\Delta t \\alpha}{3 \\Delta x^{2}} + \\frac{4}{3}\\right)$"
      ],
      "text/plain": [
       "2⋅T_{j+1}__{n}⋅\\Delta t⋅\\alpha   2⋅T_{j-1}__{n}⋅\\Delta t⋅\\alpha   T_{j}__{n-1}\n",
       "────────────────────────────── + ────────────────────────────── - ────────────\n",
       "                   2                                2                  3      \n",
       "         3⋅\\Delta x                       3⋅\\Delta x                          \n",
       "\n",
       "              ⎛  4⋅\\Delta t⋅\\alpha   4⎞\n",
       " + T_{j}__{n}⋅⎜- ───────────────── + ─⎟\n",
       "              ⎜               2      3⎟\n",
       "              ⎝     3⋅\\Delta x        ⎠"
      ]
     },
     "execution_count": 6,
     "metadata": {},
     "output_type": "execute_result"
    }
   ],
   "source": [
    "from sympy.solvers import solve\n",
    "from sympy import collect, nsimplify\n",
    "\n",
    "\n",
    "tjnp1_eq = collect(nsimplify(expand(solve(discrete_eq, Tjnp1)[0])), Tjn)\n",
    "tjnp1_eq"
   ]
  },
  {
   "cell_type": "code",
   "execution_count": 8,
   "metadata": {},
   "outputs": [
    {
     "data": {
      "text/latex": [
       "$\\displaystyle T_{j+1}^n = \\frac{2 T_{j+1}^{n} s}{3} + \\frac{2 T_{j-1}^{n} s}{3} - \\frac{T_{j}^{n-1}}{3} + T_{j}^{n} \\left(\\frac{4}{3} - \\frac{4 s}{3}\\right)$"
      ],
      "text/plain": [
       "             2⋅T_{j+1}__{n}⋅s   2⋅T_{j-1}__{n}⋅s   T_{j}__{n-1}              ⎛\n",
       "T_{j+1}__n = ──────────────── + ──────────────── - ──────────── + T_{j}__{n}⋅⎜\n",
       "                    3                  3                3                    ⎝\n",
       "\n",
       "4   4⋅s⎞\n",
       "─ - ───⎟\n",
       "3    3 ⎠"
      ]
     },
     "execution_count": 8,
     "metadata": {},
     "output_type": "execute_result"
    }
   ],
   "source": [
    "from sympy import Eq\n",
    "\n",
    "s = Symbol('s')\n",
    "Eq(Tjnp1, tjnp1_eq).subs(alpha*dt/dx**2, s)"
   ]
  }
 ],
 "metadata": {
  "interpreter": {
   "hash": "a199bcbba3e821b8d5891eb4b89745fcafee7d77a7e399c5b6adbcca28439009"
  },
  "kernelspec": {
   "display_name": "Python 3.9.12 ('env': venv)",
   "language": "python",
   "name": "python3"
  },
  "language_info": {
   "codemirror_mode": {
    "name": "ipython",
    "version": 3
   },
   "file_extension": ".py",
   "mimetype": "text/x-python",
   "name": "python",
   "nbconvert_exporter": "python",
   "pygments_lexer": "ipython3",
   "version": "3.9.12"
  },
  "orig_nbformat": 4
 },
 "nbformat": 4,
 "nbformat_minor": 2
}
