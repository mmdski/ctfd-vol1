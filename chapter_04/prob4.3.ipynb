{
 "cells": [
  {
   "cell_type": "code",
   "execution_count": 1,
   "metadata": {},
   "outputs": [],
   "source": [
    "from sympy import factorial, symbols, init_printing, Symbol\n",
    "\n",
    "\n",
    "init_printing()\n",
    "alpha = Symbol('\\\\alpha')\n",
    "dx = Symbol('\\Delta x')\n",
    "dt = Symbol('\\Delta t')\n",
    "Tjn, Tjnp1, Tjm2n, Tjm1n, Tjp1n, Tjp2n = symbols('T_{j}^{n}, T_{j}^{n+1}, T_{j-2}^{n}, T_{j-1}^{n}, T_{j+1}^{n}, T_{j+2}^{n}')"
   ]
  },
  {
   "cell_type": "code",
   "execution_count": 2,
   "metadata": {},
   "outputs": [
    {
     "data": {
      "image/png": "[encoded data removed]",
      "text/latex": [
       "$\\displaystyle - \\frac{\\alpha \\left(\\frac{4 T_{j+1}^{n}}{3} - \\frac{T_{j+2}^{n}}{12} + \\frac{4 T_{j-1}^{n}}{3} - \\frac{T_{j-2}^{n}}{12} - \\frac{5 T_{j}^{n}}{2}\\right)}{\\Delta x^{2}} + \\frac{T_{j}^{n+1} - T_{j}^{n}}{\\Delta t} = 0$"
      ],
      "text/plain": [
       "         ⎛4⋅T_{j+1}__{n}   T_{j+2}__{n}   4⋅T_{j-1}__{n}   T_{j-2}__{n}   5⋅T_\n",
       "  \\alpha⋅⎜────────────── - ──────────── + ────────────── - ──────────── - ────\n",
       "         ⎝      3               12              3               12            \n",
       "- ────────────────────────────────────────────────────────────────────────────\n",
       "                                                2                             \n",
       "                                        \\Delta x                              \n",
       "\n",
       "{j}__{n}⎞                                \n",
       "────────⎟                                \n",
       " 2      ⎠   T_{j}__{n+1} - T_{j}__{n}    \n",
       "───────── + ───────────────────────── = 0\n",
       "                     \\Delta t            \n",
       "                                         "
      ]
     },
     "execution_count": 2,
     "metadata": {},
     "output_type": "execute_result"
    }
   ],
   "source": [
    "from sympy import Eq, Rational\n",
    "\n",
    "\n",
    "dTdt = (Tjnp1 - Tjn)/dt\n",
    "dTdx = (Rational(-1, 12)*Tjm2n + Rational(4,3)*Tjm1n - Rational(5,2)*Tjn + Rational(4,3)*Tjp1n - Rational(1,12)*Tjp2n)/dx**2\n",
    "discrete_eq = Eq(dTdt - alpha*dTdx, 0)\n",
    "discrete_eq"
   ]
  },
  {
   "cell_type": "code",
   "execution_count": 3,
   "metadata": {},
   "outputs": [],
   "source": [
    "from sympy import Add, factorial, Matrix, Order\n",
    "\n",
    "\n",
    "n_m = 10\n",
    "m = []\n",
    "for i in range(n_m):\n",
    "    row = []\n",
    "    for j in range(n_m):\n",
    "        if i < 4:\n",
    "            x_script = i*'x'\n",
    "        else:\n",
    "            x_script = 'x^{{{:}}}'.format(i)\n",
    "        if j < 4:\n",
    "            t_script = j*'t'\n",
    "        else:\n",
    "            t_script = 't^{{{:}}}'.format(j)\n",
    "        row.append(Symbol('T_{{{:}{:}}}'.format(x_script, t_script)))\n",
    "    m.append(row)\n",
    "dT = Matrix(m)\n",
    "\n",
    "dx = Symbol('\\Delta x')\n",
    "dt = Symbol('\\Delta t')\n",
    "\n",
    "dx_order = 7\n",
    "dt_order = 2\n",
    "\n",
    "def P(dx, dt, dT, n):\n",
    "    series_terms = []\n",
    "    for i in range(0, n+1):\n",
    "        for j in range(0, i + 1):\n",
    "            series_terms.append((1/(factorial(i - j)*factorial(j))) * (dx)**(i-j) * (dt)**j * dT[i - j, j])\n",
    "    series_terms.extend([Order(dx**(n + 1)), Order(dt**(n + 1))])\n",
    "    return Add(*series_terms)"
   ]
  },
  {
   "cell_type": "code",
   "execution_count": 4,
   "metadata": {},
   "outputs": [
    {
     "data": {
      "image/png": "[encoded data removed]",
      "text/latex": [
       "$\\displaystyle T_{}$"
      ],
      "text/plain": [
       "T_{}"
      ]
     },
     "execution_count": 4,
     "metadata": {},
     "output_type": "execute_result"
    }
   ],
   "source": [
    "Tjn_series = P(0, 0, dT, 1)\n",
    "Tjn_series"
   ]
  },
  {
   "cell_type": "code",
   "execution_count": 5,
   "metadata": {},
   "outputs": [
    {
     "data": {
      "image/png": "[encoded data removed]",
      "text/latex": [
       "$\\displaystyle T_{} + T_{t} \\Delta t + \\frac{T_{tt} \\Delta t^{2}}{2} + O\\left(\\Delta t^{3}\\right)$"
      ],
      "text/plain": [
       "                                       2               \n",
       "                        T_{tt}⋅\\Delta t     ⎛        3⎞\n",
       "T_{} + T_{t}⋅\\Delta t + ──────────────── + O⎝\\Delta t ⎠\n",
       "                               2                       "
      ]
     },
     "execution_count": 5,
     "metadata": {},
     "output_type": "execute_result"
    }
   ],
   "source": [
    "Tjnp1_series = P(0, dt, dT, dt_order)\n",
    "Tjnp1_series"
   ]
  },
  {
   "cell_type": "code",
   "execution_count": 6,
   "metadata": {},
   "outputs": [
    {
     "data": {
      "image/png": "[encoded data removed]",
      "text/latex": [
       "$\\displaystyle T_{} - 2 T_{x} \\Delta x + 2 T_{xx} \\Delta x^{2} - \\frac{4 T_{xxx} \\Delta x^{3}}{3} - \\frac{8 T_{x^{7}} \\Delta x^{7}}{315} + \\frac{4 T_{x^{6}} \\Delta x^{6}}{45} - \\frac{4 T_{x^{5}} \\Delta x^{5}}{15} + \\frac{2 T_{x^{4}} \\Delta x^{4}}{3} + O\\left(\\Delta x^{8}\\right)$"
      ],
      "text/plain": [
       "                                                                 3            \n",
       "                                           2   4⋅T_{xxx}⋅\\Delta x    8⋅T_{x__{\n",
       "T_{} - 2⋅T_{x}⋅\\Delta x + 2⋅T_{xx}⋅\\Delta x  - ─────────────────── - ─────────\n",
       "                                                        3                     \n",
       "\n",
       "            7                        6                        5               \n",
       "7}}⋅\\Delta x    4⋅T_{x__{6}}⋅\\Delta x    4⋅T_{x__{5}}⋅\\Delta x    2⋅T_{x__{4}}\n",
       "───────────── + ────────────────────── - ────────────────────── + ────────────\n",
       "315                       45                       15                       3 \n",
       "\n",
       "         4               \n",
       "⋅\\Delta x     ⎛        8⎞\n",
       "────────── + O⎝\\Delta x ⎠\n",
       "                         "
      ]
     },
     "execution_count": 6,
     "metadata": {},
     "output_type": "execute_result"
    }
   ],
   "source": [
    "Tjm2n_series = P(-2*dx, 0, dT, dx_order)\n",
    "Tjm2n_series"
   ]
  },
  {
   "cell_type": "code",
   "execution_count": 7,
   "metadata": {},
   "outputs": [
    {
     "data": {
      "image/png": "[encoded data removed]",
      "text/latex": [
       "$\\displaystyle T_{} - T_{x} \\Delta x + \\frac{T_{xx} \\Delta x^{2}}{2} - \\frac{T_{xxx} \\Delta x^{3}}{6} - \\frac{T_{x^{7}} \\Delta x^{7}}{5040} + \\frac{T_{x^{6}} \\Delta x^{6}}{720} - \\frac{T_{x^{5}} \\Delta x^{5}}{120} + \\frac{T_{x^{4}} \\Delta x^{4}}{24} + O\\left(\\Delta x^{8}\\right)$"
      ],
      "text/plain": [
       "                                       2                   3                  \n",
       "                        T_{xx}⋅\\Delta x    T_{xxx}⋅\\Delta x    T_{x__{7}}⋅\\Del\n",
       "T_{} - T_{x}⋅\\Delta x + ──────────────── - ───────────────── - ───────────────\n",
       "                               2                   6                   5040   \n",
       "\n",
       "    7                      6                      5                      4    \n",
       "ta x    T_{x__{6}}⋅\\Delta x    T_{x__{5}}⋅\\Delta x    T_{x__{4}}⋅\\Delta x     \n",
       "───── + ──────────────────── - ──────────────────── + ──────────────────── + O\n",
       "                720                    120                     24             \n",
       "\n",
       "           \n",
       "⎛        8⎞\n",
       "⎝\\Delta x ⎠\n",
       "           "
      ]
     },
     "execution_count": 7,
     "metadata": {},
     "output_type": "execute_result"
    }
   ],
   "source": [
    "Tjm1n_series = P(-dx, 0, dT, dx_order)\n",
    "Tjm1n_series"
   ]
  },
  {
   "cell_type": "code",
   "execution_count": 8,
   "metadata": {},
   "outputs": [
    {
     "data": {
      "image/png": "[encoded data removed]",
      "text/latex": [
       "$\\displaystyle T_{} + T_{x} \\Delta x + \\frac{T_{xx} \\Delta x^{2}}{2} + \\frac{T_{xxx} \\Delta x^{3}}{6} + \\frac{T_{x^{7}} \\Delta x^{7}}{5040} + \\frac{T_{x^{6}} \\Delta x^{6}}{720} + \\frac{T_{x^{5}} \\Delta x^{5}}{120} + \\frac{T_{x^{4}} \\Delta x^{4}}{24} + O\\left(\\Delta x^{8}\\right)$"
      ],
      "text/plain": [
       "                                       2                   3                  \n",
       "                        T_{xx}⋅\\Delta x    T_{xxx}⋅\\Delta x    T_{x__{7}}⋅\\Del\n",
       "T_{} + T_{x}⋅\\Delta x + ──────────────── + ───────────────── + ───────────────\n",
       "                               2                   6                   5040   \n",
       "\n",
       "    7                      6                      5                      4    \n",
       "ta x    T_{x__{6}}⋅\\Delta x    T_{x__{5}}⋅\\Delta x    T_{x__{4}}⋅\\Delta x     \n",
       "───── + ──────────────────── + ──────────────────── + ──────────────────── + O\n",
       "                720                    120                     24             \n",
       "\n",
       "           \n",
       "⎛        8⎞\n",
       "⎝\\Delta x ⎠\n",
       "           "
      ]
     },
     "execution_count": 8,
     "metadata": {},
     "output_type": "execute_result"
    }
   ],
   "source": [
    "Tjp1n_series = P(dx, 0, dT, dx_order)\n",
    "Tjp1n_series"
   ]
  },
  {
   "cell_type": "code",
   "execution_count": 9,
   "metadata": {},
   "outputs": [
    {
     "data": {
      "image/png": "[encoded data removed]",
      "text/latex": [
       "$\\displaystyle T_{} + 2 T_{x} \\Delta x + 2 T_{xx} \\Delta x^{2} + \\frac{4 T_{xxx} \\Delta x^{3}}{3} + \\frac{8 T_{x^{7}} \\Delta x^{7}}{315} + \\frac{4 T_{x^{6}} \\Delta x^{6}}{45} + \\frac{4 T_{x^{5}} \\Delta x^{5}}{15} + \\frac{2 T_{x^{4}} \\Delta x^{4}}{3} + O\\left(\\Delta x^{8}\\right)$"
      ],
      "text/plain": [
       "                                                                 3            \n",
       "                                           2   4⋅T_{xxx}⋅\\Delta x    8⋅T_{x__{\n",
       "T_{} + 2⋅T_{x}⋅\\Delta x + 2⋅T_{xx}⋅\\Delta x  + ─────────────────── + ─────────\n",
       "                                                        3                     \n",
       "\n",
       "            7                        6                        5               \n",
       "7}}⋅\\Delta x    4⋅T_{x__{6}}⋅\\Delta x    4⋅T_{x__{5}}⋅\\Delta x    2⋅T_{x__{4}}\n",
       "───────────── + ────────────────────── + ────────────────────── + ────────────\n",
       "315                       45                       15                       3 \n",
       "\n",
       "         4               \n",
       "⋅\\Delta x     ⎛        8⎞\n",
       "────────── + O⎝\\Delta x ⎠\n",
       "                         "
      ]
     },
     "execution_count": 9,
     "metadata": {},
     "output_type": "execute_result"
    }
   ],
   "source": [
    "Tjp2n_series = P(2*dx, 0, dT, dx_order)\n",
    "Tjp2n_series"
   ]
  },
  {
   "cell_type": "code",
   "execution_count": 10,
   "metadata": {},
   "outputs": [
    {
     "data": {
      "image/png": "[encoded data removed]",
      "text/latex": [
       "$\\displaystyle 0 = T_{xx} \\alpha - \\frac{T_{x^{6}} \\Delta x^{4} \\alpha}{90} - T_{t} - \\frac{T_{tt} \\Delta t}{2} + O\\left(\\Delta x^{6}\\right) + O\\left(\\Delta t^{2}\\right)$"
      ],
      "text/plain": [
       "                                       4                                      \n",
       "                    T_{x__{6}}⋅\\Delta x ⋅\\alpha           T_{tt}⋅\\Delta t    ⎛\n",
       "0 = T_{xx}⋅\\alpha - ─────────────────────────── - T_{t} - ─────────────── + O⎝\n",
       "                                 90                              2            \n",
       "\n",
       "                         \n",
       "        6⎞    ⎛        2⎞\n",
       "\\Delta x ⎠ + O⎝\\Delta t ⎠\n",
       "                         "
      ]
     },
     "execution_count": 10,
     "metadata": {},
     "output_type": "execute_result"
    }
   ],
   "source": [
    "from sympy import expand\n",
    "\n",
    "\n",
    "series_subs = [(Tjn, Tjn_series), (Tjnp1, Tjnp1_series), (Tjm2n, Tjm2n_series), (Tjm1n, Tjm1n_series), (Tjp1n, Tjp1n_series), (Tjp2n, Tjp2n_series)]\n",
    "\n",
    "series_eq = expand(discrete_eq.subs(series_subs)).reversed.reversedsign\n",
    "series_eq"
   ]
  },
  {
   "cell_type": "code",
   "execution_count": 11,
   "metadata": {},
   "outputs": [
    {
     "data": {
      "image/png": "[encoded data removed]",
      "text/latex": [
       "$\\displaystyle T_{t} - T_{xx} \\alpha$"
      ],
      "text/plain": [
       "T_{t} - T_{xx}⋅\\alpha"
      ]
     },
     "execution_count": 11,
     "metadata": {},
     "output_type": "execute_result"
    }
   ],
   "source": [
    "lhs = dT[0,1] - alpha*dT[2,0]\n",
    "lhs"
   ]
  },
  {
   "cell_type": "code",
   "execution_count": 12,
   "metadata": {},
   "outputs": [
    {
     "data": {
      "image/png": "[encoded data removed]",
      "text/latex": [
       "$\\displaystyle - \\frac{T_{x^{6}} \\Delta x^{4} \\alpha}{90} - \\frac{T_{tt} \\Delta t}{2} + O\\left(\\Delta x^{6}\\right) + O\\left(\\Delta t^{2}\\right)$"
      ],
      "text/plain": [
       "                     4                                                       \n",
       "  T_{x__{6}}⋅\\Delta x ⋅\\alpha   T_{tt}⋅\\Delta t    ⎛        6⎞    ⎛        2⎞\n",
       "- ─────────────────────────── - ─────────────── + O⎝\\Delta x ⎠ + O⎝\\Delta t ⎠\n",
       "               90                      2                                     "
      ]
     },
     "execution_count": 12,
     "metadata": {},
     "output_type": "execute_result"
    }
   ],
   "source": [
    "rhs = series_eq.rhs + lhs\n",
    "rhs"
   ]
  },
  {
   "cell_type": "code",
   "execution_count": 13,
   "metadata": {},
   "outputs": [
    {
     "data": {
      "image/png": "[encoded data removed]",
      "text/latex": [
       "$\\displaystyle T_{t} - T_{xx} \\alpha = - \\frac{T_{x^{6}} \\Delta x^{4} \\alpha}{90} - \\frac{T_{tt} \\Delta t}{2} + O\\left(\\Delta x^{6}\\right) + O\\left(\\Delta t^{2}\\right)$"
      ],
      "text/plain": [
       "                                             4                                \n",
       "                          T_{x__{6}}⋅\\Delta x ⋅\\alpha   T_{tt}⋅\\Delta t    ⎛  \n",
       "T_{t} - T_{xx}⋅\\alpha = - ─────────────────────────── - ─────────────── + O⎝\\D\n",
       "                                       90                      2              \n",
       "\n",
       "                       \n",
       "      6⎞    ⎛        2⎞\n",
       "elta x ⎠ + O⎝\\Delta t ⎠\n",
       "                       "
      ]
     },
     "execution_count": 13,
     "metadata": {},
     "output_type": "execute_result"
    }
   ],
   "source": [
    "Eq(lhs, rhs)"
   ]
  },
  {
   "cell_type": "code",
   "execution_count": 14,
   "metadata": {},
   "outputs": [
    {
     "data": {
      "image/png": "[encoded data removed]",
      "text/latex": [
       "$\\displaystyle - \\frac{T_{tt} \\Delta t}{2}$"
      ],
      "text/plain": [
       "-T_{tt}⋅\\Delta t \n",
       "─────────────────\n",
       "        2        "
      ]
     },
     "execution_count": 14,
     "metadata": {},
     "output_type": "execute_result"
    }
   ],
   "source": [
    "t_term = rhs.args[0]\n",
    "t_term"
   ]
  },
  {
   "cell_type": "code",
   "execution_count": 15,
   "metadata": {},
   "outputs": [
    {
     "data": {
      "image/png": "[encoded data removed]",
      "text/latex": [
       "$\\displaystyle T_{tt} = T_{x^{4}} \\alpha^{2}$"
      ],
      "text/plain": [
       "                          2\n",
       "T_{tt} = T_{x__{4}}⋅\\alpha "
      ]
     },
     "execution_count": 15,
     "metadata": {},
     "output_type": "execute_result"
    }
   ],
   "source": [
    "Eq(dT[0, 2], alpha**2*dT[4,0])"
   ]
  },
  {
   "cell_type": "code",
   "execution_count": 16,
   "metadata": {},
   "outputs": [
    {
     "data": {
      "image/png": "[encoded data removed]",
      "text/latex": [
       "$\\displaystyle s = \\frac{\\Delta t \\alpha}{\\Delta x^{2}}$"
      ],
      "text/plain": [
       "    \\Delta t⋅\\alpha\n",
       "s = ───────────────\n",
       "               2   \n",
       "       \\Delta x    "
      ]
     },
     "execution_count": 16,
     "metadata": {},
     "output_type": "execute_result"
    }
   ],
   "source": [
    "s = Symbol('s')\n",
    "\n",
    "Eq(s, alpha*dt/dx**2)"
   ]
  },
  {
   "cell_type": "code",
   "execution_count": 17,
   "metadata": {},
   "outputs": [
    {
     "data": {
      "image/png": "[encoded data removed]",
      "text/latex": [
       "$\\displaystyle - \\frac{T_{x^{4}} \\Delta x^{2} \\alpha s}{2}$"
      ],
      "text/plain": [
       "                    2          \n",
       "-T_{x__{4}}⋅\\Delta x ⋅\\alpha⋅s \n",
       "───────────────────────────────\n",
       "               2               "
      ]
     },
     "execution_count": 17,
     "metadata": {},
     "output_type": "execute_result"
    }
   ],
   "source": [
    "t_to_x_term = t_term.subs([(dT[0,2], alpha**2*dT[4,0]), (dt*alpha, s*dx**2)])\n",
    "t_to_x_term"
   ]
  },
  {
   "cell_type": "code",
   "execution_count": 18,
   "metadata": {},
   "outputs": [
    {
     "data": {
      "image/png": "[encoded data removed]",
      "text/latex": [
       "$\\displaystyle - \\frac{T_{x^{6}} \\Delta x^{4} \\alpha}{90} - \\frac{T_{x^{4}} \\Delta x^{2} \\alpha s}{2} + O\\left(\\Delta x^{6}\\right) + O\\left(\\Delta t^{2}\\right)$"
      ],
      "text/plain": [
       "                     4                             2                          \n",
       "  T_{x__{6}}⋅\\Delta x ⋅\\alpha   T_{x__{4}}⋅\\Delta x ⋅\\alpha⋅s    ⎛        6⎞  \n",
       "- ─────────────────────────── - ───────────────────────────── + O⎝\\Delta x ⎠ +\n",
       "               90                             2                               \n",
       "\n",
       "             \n",
       "  ⎛        2⎞\n",
       " O⎝\\Delta t ⎠\n",
       "             "
      ]
     },
     "execution_count": 18,
     "metadata": {},
     "output_type": "execute_result"
    }
   ],
   "source": [
    "rhs.subs(t_term, t_to_x_term)"
   ]
  },
  {
   "cell_type": "code",
   "execution_count": 19,
   "metadata": {},
   "outputs": [
    {
     "data": {
      "image/png": "[encoded data removed]",
      "text/plain": [
       "<Figure size 432x288 with 1 Axes>"
      ]
     },
     "metadata": {
      "needs_background": "light"
     },
     "output_type": "display_data"
    }
   ],
   "source": [
    "%matplotlib inline\n",
    "import matplotlib.pyplot as plt\n",
    "import numpy as np\n",
    "\n",
    "\n",
    "# from prob4.1.out\n",
    "delx = np.array([2.000e-01, 1.000e-01, 5.000e-02])\n",
    "rms_diff = np.array([1.6340e+00, 4.3245e-01, 1.0806e-01])\n",
    "\n",
    "_ = plt.plot(delx**2, rms_diff)\n",
    "_ = plt.xlabel('DELX*DELX')\n",
    "_ = plt.ylabel('RMS DIF')"
   ]
  }
 ],
 "metadata": {
  "interpreter": {
   "hash": "a199bcbba3e821b8d5891eb4b89745fcafee7d77a7e399c5b6adbcca28439009"
  },
  "kernelspec": {
   "display_name": "Python 3.9.13 ('env': venv)",
   "language": "python",
   "name": "python3"
  },
  "language_info": {
   "codemirror_mode": {
    "name": "ipython",
    "version": 3
   },
   "file_extension": ".py",
   "mimetype": "text/x-python",
   "name": "python",
   "nbconvert_exporter": "python",
   "pygments_lexer": "ipython3",
   "version": "3.9.13"
  },
  "orig_nbformat": 4
 },
 "nbformat": 4,
 "nbformat_minor": 2
}
